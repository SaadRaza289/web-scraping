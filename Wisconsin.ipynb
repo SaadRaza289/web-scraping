{
 "cells": [
  {
   "cell_type": "code",
   "execution_count": 1,
   "id": "762cff4d",
   "metadata": {},
   "outputs": [],
   "source": [
    "from selenium import webdriver\n",
    "from selenium.webdriver.common.by import By\n",
    "from selenium.webdriver.common.action_chains import ActionChains\n",
    "import time\n",
    "import pandas as pd"
   ]
  },
  {
   "cell_type": "code",
   "execution_count": 2,
   "id": "af9613d0",
   "metadata": {},
   "outputs": [],
   "source": [
    "driver = webdriver.Chrome()\n",
    "action = ActionChains(driver)\n",
    "driver.maximize_window()"
   ]
  },
  {
   "cell_type": "code",
   "execution_count": 3,
   "id": "2fd0e056",
   "metadata": {},
   "outputs": [],
   "source": [
    "driver.get('https://childcarefinder.wisconsin.gov/SearchResults?CenterType=1&RegulationType=1')\n",
    "time.sleep(10)"
   ]
  },
  {
   "cell_type": "code",
   "execution_count": 4,
   "id": "0fce6f83",
   "metadata": {},
   "outputs": [],
   "source": [
    "links = []"
   ]
  },
  {
   "cell_type": "code",
   "execution_count": 5,
   "id": "0849031e",
   "metadata": {},
   "outputs": [],
   "source": [
    "x= 1\n",
    "while x<=44:\n",
    "\n",
    "    if x == 2:\n",
    "        nex = driver.find_element(By.XPATH,'//*[@id=\"ChildCareSearch\"]/p[1]/button[1]')\n",
    "        driver.execute_script(\"arguments[0].scrollIntoView();\", nex)\n",
    "        time.sleep(1)\n",
    "        action.click(nex).perform()\n",
    "        time.sleep(5)\n",
    "    \n",
    "    if x>2:\n",
    "        nexs = driver.find_element(By.XPATH,'//*[@id=\"ChildCareSearch\"]/p[1]/button[3]')\n",
    "        # driver.execute_script(\"arguments[0].scrollIntoView();\", nexs)\n",
    "        action.click(nexs).perform()\n",
    "        time.sleep(5)\n",
    "\n",
    "    lin = driver.find_elements(By.CSS_SELECTOR,'.Grid a')\n",
    "    for l in lin:\n",
    "        # action.move_to_element(l).perform()\n",
    "        links.append(l.get_attribute(\"href\"))\n",
    "        \n",
    "    x = x+1"
   ]
  },
  {
   "cell_type": "code",
   "execution_count": 6,
   "id": "8d5ba733",
   "metadata": {},
   "outputs": [
    {
     "name": "stdout",
     "output_type": "stream",
     "text": [
      "2200\n"
     ]
    }
   ],
   "source": [
    "print(len(links))"
   ]
  },
  {
   "cell_type": "code",
   "execution_count": 7,
   "id": "48a072c2",
   "metadata": {},
   "outputs": [],
   "source": [
    "Name = []\n",
    "Address = []\n",
    "City = []\n",
    "Zip_Code = []\n",
    "Phone_Number = []\n",
    "Provider_Number = []\n",
    "Location = []\n",
    "Facility_Number = []\n",
    "Regulation_Type = []\n",
    "Applicant_License = []\n",
    "Ages_Served = []\n",
    "Months_open = []\n",
    "Capacity = []\n",
    "Rating = []\n",
    "non_server = []"
   ]
  },
  {
   "cell_type": "code",
   "execution_count": 8,
   "id": "63f5c711",
   "metadata": {},
   "outputs": [],
   "source": [
    "for li in links:\n",
    "    try:\n",
    "        driver.get(li)\n",
    "        time.sleep(5)\n",
    "    except:\n",
    "        non_server.append(li)\n",
    "      \n",
    "    try:\n",
    "        n = driver.find_element(By.CSS_SELECTOR,'.mb-3 .row:nth-child(1) .col-12')\n",
    "        Name.append(n.text)\n",
    "\n",
    "    except:\n",
    "        Name.append(\"not found\")\n",
    "    \n",
    "    try:\n",
    "        a1 = driver.find_element(By.CSS_SELECTOR,'#providerDetailsCollapsible .row:nth-child(2) .col-12')\n",
    "        Address.append(a1.text)\n",
    "\n",
    "    except:\n",
    "        Address.append(\"not found\")\n",
    "        \n",
    "    try:\n",
    "        a2 = driver.find_element(By.CSS_SELECTOR,'.mb-3 .col-12.mb-3')\n",
    "        a2 = a2.text\n",
    "        a2 = a2.split(' WI ')\n",
    "        City.append(a2[0])\n",
    "        Zip_Code.append(a2[1])\n",
    "    except:\n",
    "        City.append(\"not found\")\n",
    "        Zip_Code.append(\"not found\")\n",
    "    \n",
    "    try:\n",
    "        p = driver.find_element(By.CSS_SELECTOR,'#providerDetailsCollapsible a')\n",
    "        Phone_Number.append(p.text)\n",
    "\n",
    "    except:\n",
    "        Phone_Number.append(\"not found\")\n",
    "        \n",
    "    try:\n",
    "        pn = driver.find_element(By.CSS_SELECTOR,'#providerDetailsCollapsible > div > div > div.col-12.col-md-4.mb-3 > div:nth-child(1) > div.col-5')\n",
    "        Provider_Number.append(pn.text)\n",
    "\n",
    "    except:\n",
    "        Provider_Number.append(\"not found\")\n",
    "        \n",
    "    try:\n",
    "        loc = driver.find_element(By.CSS_SELECTOR,'.mb-3 .row:nth-child(2) .col-5')\n",
    "        Location.append(loc.text)\n",
    "\n",
    "    except:\n",
    "        Location.append(\"not found\")\n",
    "        \n",
    "    try:\n",
    "        fn = driver.find_element(By.CSS_SELECTOR,'.mb-3 .row:nth-child(3) .col-5')\n",
    "        Facility_Number.append(fn.text)\n",
    "\n",
    "    except:\n",
    "        Facility_Number.append(\"not found\")\n",
    "    \n",
    "    try:\n",
    "        rt = driver.find_element(By.CSS_SELECTOR,'.mb-3 .row:nth-child(4) .col-5')\n",
    "        Regulation_Type.append(rt.text)\n",
    "\n",
    "    except:\n",
    "        Regulation_Type.append(\"not found\")\n",
    "        \n",
    "    try:\n",
    "        al = driver.find_element(By.CSS_SELECTOR,'.col-5.mb-3')\n",
    "        Applicant_License.append(al.text)\n",
    "\n",
    "    except:\n",
    "        Applicant_License.append(\"not found\")\n",
    "    \n",
    "    try:\n",
    "        aser = driver.find_element(By.CSS_SELECTOR,'.row:nth-child(7) .col-12')\n",
    "        Ages_Served.append(aser.text)\n",
    "\n",
    "    except:\n",
    "        Ages_Served.append(\"not found\")\n",
    "        \n",
    "    try:\n",
    "        mo = driver.find_element(By.CSS_SELECTOR,'.mb-3+ .row .col-5')\n",
    "        Months_open.append(mo.text)\n",
    "\n",
    "    except:\n",
    "        Months_open.append(\"not found\")\n",
    "    \n",
    "    try:\n",
    "        dc = driver.find_element(By.CSS_SELECTOR,'#divHoursOfOperation .row:nth-child(3) .col-5')\n",
    "        dc = dc.text\n",
    "        dc = int(dc)\n",
    "        try:\n",
    "            nc = driver.find_element(By.CSS_SELECTOR,'#divHoursOfOperation .row~ .row+ .row .col-5')\n",
    "            nc = nc.text\n",
    "            nc = int(nc)\n",
    "        except:\n",
    "            nc = 0\n",
    "        \n",
    "        dc = dc + nc\n",
    "        Capacity.append(dc)\n",
    "    except:\n",
    "        Capacity.append(\"not found\")\n",
    "\n",
    "    \n",
    "    try:\n",
    "        r = driver.find_element(By.CSS_SELECTOR,'.text-nowrap')\n",
    "        Rating.append(r.get_attribute(\"title\"))\n",
    "    except:\n",
    "        Rating.append(\"not found\")"
   ]
  },
  {
   "cell_type": "code",
   "execution_count": 10,
   "id": "d9c0843f",
   "metadata": {},
   "outputs": [
    {
     "name": "stdout",
     "output_type": "stream",
     "text": [
      "2200\n",
      "2200\n",
      "2200\n",
      "2200\n",
      "2200\n",
      "2200\n",
      "2200\n",
      "2200\n",
      "2200\n",
      "2200\n",
      "2200\n",
      "2200\n",
      "2200\n",
      "2200\n",
      "1181\n"
     ]
    }
   ],
   "source": [
    "print(len(Name))\n",
    "print(len(Address))\n",
    "print(len(City))\n",
    "print(len(Zip_Code))\n",
    "print(len(Phone_Number))\n",
    "print(len(Provider_Number))\n",
    "print(len(Location))\n",
    "print(len(Facility_Number))\n",
    "print(len(Regulation_Type))\n",
    "print(len(Applicant_License))\n",
    "print(len(Ages_Served))\n",
    "print(len(Months_open))\n",
    "print(len(Capacity))\n",
    "print(len(Rating))\n",
    "print(len(non_server))"
   ]
  },
  {
   "cell_type": "code",
   "execution_count": null,
   "id": "c01c39da",
   "metadata": {},
   "outputs": [],
   "source": []
  }
 ],
 "metadata": {
  "kernelspec": {
   "display_name": "Python 3 (ipykernel)",
   "language": "python",
   "name": "python3"
  },
  "language_info": {
   "codemirror_mode": {
    "name": "ipython",
    "version": 3
   },
   "file_extension": ".py",
   "mimetype": "text/x-python",
   "name": "python",
   "nbconvert_exporter": "python",
   "pygments_lexer": "ipython3",
   "version": "3.11.5"
  }
 },
 "nbformat": 4,
 "nbformat_minor": 5
}
