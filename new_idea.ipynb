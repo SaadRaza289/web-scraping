{
 "cells": [
  {
   "cell_type": "code",
   "execution_count": 1,
   "id": "0d968d00",
   "metadata": {},
   "outputs": [],
   "source": [
    "import pandas as pd\n",
    "from selenium import webdriver\n",
    "import time\n",
    "from selenium.webdriver.common.by import By\n",
    "from selenium.webdriver.support.select import Select\n",
    "import numpy as np\n",
    "from selenium.webdriver.common.keys import Keys\n",
    "from selenium.webdriver.chrome.service import Service as ChromeService\n",
    "from selenium.webdriver.support.ui import WebDriverWait\n",
    "from selenium.webdriver.support import expected_conditions as EC\n",
    "import requests\n",
    "import bs4\n",
    "from bs4 import BeautifulSoup\n",
    "import lxml\n",
    "import html5lib"
   ]
  },
  {
   "cell_type": "code",
   "execution_count": 2,
   "id": "2f79da66",
   "metadata": {},
   "outputs": [],
   "source": [
    "import time\n",
    "\n",
    "# Set up the options for the Chrome WebDriver\n",
    "chrome_options = webdriver.ChromeOptions()\n",
    "# You can add additional options if needed, such as specifying the Chrome binary location.\n",
    "\n",
    "# Create the Chrome WebDriver instance using the specified options\n",
    "driver = webdriver.Chrome(options=chrome_options)\n",
    "\n",
    "# Now you can use the driver to navigate to a website\n",
    "driver.get(\"https://www.google.com\")\n",
    "time.sleep(5)"
   ]
  },
  {
   "cell_type": "code",
   "execution_count": 3,
   "id": "28777275",
   "metadata": {},
   "outputs": [],
   "source": [
    "input_city = driver.find_element(By.XPATH, '/html/body/div[1]/div[3]/form/div[1]/div[1]/div[1]/div/div[2]/textarea')\n",
    "input_city.clear()\n",
    "input_city.send_keys('Daycare center in Denver')\n",
    "input_city.send_keys(Keys.RETURN)"
   ]
  },
  {
   "cell_type": "code",
   "execution_count": 4,
   "id": "86d03d55",
   "metadata": {},
   "outputs": [],
   "source": [
    "more = driver.find_element(By.TAG_NAME,\"g-more-link\")\n",
    "more_btn = more.find_element(By.TAG_NAME,\"a\")\n",
    "more_btn.click()"
   ]
  },
  {
   "cell_type": "code",
   "execution_count": 5,
   "id": "4ab58106",
   "metadata": {},
   "outputs": [],
   "source": [
    "elements = driver.find_elements(By.CSS_SELECTOR, 'div#search a[class=\"vwVdIc wzN8Ac rllt__link a-no-hover-decoration\"')\n"
   ]
  },
  {
   "cell_type": "code",
   "execution_count": 6,
   "id": "d4ef8554",
   "metadata": {},
   "outputs": [
    {
     "data": {
      "text/plain": [
       "[]"
      ]
     },
     "execution_count": 6,
     "metadata": {},
     "output_type": "execute_result"
    }
   ],
   "source": [
    "elements"
   ]
  },
  {
   "cell_type": "code",
   "execution_count": null,
   "id": "65e01af6",
   "metadata": {},
   "outputs": [],
   "source": []
  },
  {
   "cell_type": "code",
   "execution_count": null,
   "id": "d8fbe332",
   "metadata": {},
   "outputs": [],
   "source": []
  },
  {
   "cell_type": "code",
   "execution_count": null,
   "id": "e8e0ea08",
   "metadata": {},
   "outputs": [],
   "source": []
  },
  {
   "cell_type": "code",
   "execution_count": null,
   "id": "9a3a1652",
   "metadata": {},
   "outputs": [],
   "source": [
    "more_button = driver.find_element(By.XPATH,'//div[@class=\"S8ee5 CwbYXd wHYlTd\"]')\n",
    "more_button.click()"
   ]
  },
  {
   "cell_type": "code",
   "execution_count": null,
   "id": "12712f8b",
   "metadata": {},
   "outputs": [],
   "source": [
    "listing = driver.find_elements(By.XPATH,'//div[@class=\"NwqBmc\"]')"
   ]
  },
  {
   "cell_type": "code",
   "execution_count": null,
   "id": "44583e0b",
   "metadata": {},
   "outputs": [],
   "source": [
    "listing"
   ]
  },
  {
   "cell_type": "code",
   "execution_count": null,
   "id": "06692498",
   "metadata": {},
   "outputs": [],
   "source": [
    "import time\n",
    "for i in range(10):\n",
    "    time.sleep(10)\n",
    "#     listing = driver.find_elements(By.XPATH,'//span[contains(text(),\"United States\")]')\n",
    "#     for item in listing:\n",
    "#         item.click()\n",
    "#         time.sleep(3)\n",
    "    \n",
    "    \n",
    "    next_button = driver.find_element(By.XPATH, '/html/body/c-wiz/div/div[3]/div/div/div[1]/div[3]/div[3]/c-wiz/div/div/div[2]/div/div/button/span')\n",
    "    next_button.click()"
   ]
  },
  {
   "cell_type": "code",
   "execution_count": null,
   "id": "c58fcc86",
   "metadata": {},
   "outputs": [],
   "source": [
    "listing"
   ]
  },
  {
   "cell_type": "code",
   "execution_count": null,
   "id": "66dc7593",
   "metadata": {},
   "outputs": [],
   "source": []
  },
  {
   "cell_type": "code",
   "execution_count": null,
   "id": "6cb16543",
   "metadata": {},
   "outputs": [],
   "source": [
    "driver.execute_script('window.scrollTo(0,document.body.scrollHeight)')"
   ]
  },
  {
   "cell_type": "code",
   "execution_count": null,
   "id": "1dbbd89b",
   "metadata": {},
   "outputs": [],
   "source": [
    "driver.execute_script('return document.body.scrollHeight')"
   ]
  },
  {
   "cell_type": "code",
   "execution_count": null,
   "id": "b500e12f",
   "metadata": {},
   "outputs": [],
   "source": [
    "driver.execute_script('window.scrollTo(0,document.body.scrollHeight)')"
   ]
  },
  {
   "cell_type": "code",
   "execution_count": null,
   "id": "67fb1bdb",
   "metadata": {},
   "outputs": [],
   "source": [
    "last_height =driver.execute_script('return document.body.scrollHeight')\n",
    "while True:\n",
    "    driver.execute_script('window.scrollTo(0,document.body.scrollHeight)')\n",
    "    time.sleep(2)\n",
    "    new_height =driver.execute_script('return document.body.scrollHeight')\n",
    "    if (new_height == last_height):\n",
    "        break\n",
    "    last_height = new_height"
   ]
  },
  {
   "cell_type": "code",
   "execution_count": null,
   "id": "42f68012",
   "metadata": {},
   "outputs": [],
   "source": [
    "driver.quit()"
   ]
  },
  {
   "cell_type": "code",
   "execution_count": null,
   "id": "7653d5dc",
   "metadata": {},
   "outputs": [],
   "source": []
  }
 ],
 "metadata": {
  "kernelspec": {
   "display_name": "Python 3 (ipykernel)",
   "language": "python",
   "name": "python3"
  },
  "language_info": {
   "codemirror_mode": {
    "name": "ipython",
    "version": 3
   },
   "file_extension": ".py",
   "mimetype": "text/x-python",
   "name": "python",
   "nbconvert_exporter": "python",
   "pygments_lexer": "ipython3",
   "version": "3.11.5"
  }
 },
 "nbformat": 4,
 "nbformat_minor": 5
}
