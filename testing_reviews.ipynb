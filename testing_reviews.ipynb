{
 "cells": [
  {
   "cell_type": "code",
   "execution_count": 1,
   "id": "98eb9b08",
   "metadata": {},
   "outputs": [],
   "source": [
    "import pandas as pd\n",
    "from selenium import webdriver\n",
    "import time\n",
    "from selenium.webdriver.common.by import By\n",
    "from selenium.webdriver.support.select import Select\n",
    "import numpy as np\n",
    "import time\n",
    "import requests\n",
    "import bs4\n",
    "from bs4 import BeautifulSoup\n",
    "import lxml\n",
    "import html5lib\n",
    "from selenium.webdriver.common.keys import Keys\n",
    "from selenium.webdriver.chrome.service import Service as ChromeService\n",
    "from selenium.webdriver.support.ui import WebDriverWait\n",
    "from selenium.webdriver.support import expected_conditions as EC"
   ]
  },
  {
   "cell_type": "code",
   "execution_count": 2,
   "id": "23c21196",
   "metadata": {},
   "outputs": [],
   "source": [
    "# Set up the options for the Chrome WebDriver\n",
    "chrome_options = webdriver.ChromeOptions()\n",
    "# You can add additional options if needed, such as specifying the Chrome binary location.\n",
    "\n",
    "# Create the Chrome WebDriver instance using the specified options\n",
    "driver = webdriver.Chrome(options=chrome_options)\n",
    "\n",
    "# Now you can use the driver to navigate to a website\n",
    "driver.get(\"https://www.google.com/maps/@31.117853,74.440827,15z?entry=ttu\")\n",
    "time.sleep(5)"
   ]
  },
  {
   "cell_type": "code",
   "execution_count": null,
   "id": "827936e0",
   "metadata": {},
   "outputs": [],
   "source": [
    "location = driver.find_element(By.XPATH, '//*[@id=\"searchboxinput\"]')\n",
    "location.click()\n",
    "location.clear()\n",
    "# time.sleep(5)\n",
    "location.send_keys(\"Lionheart Children's Academy at ACC Colorado Springs\")\n",
    "search_button = driver.find_element(By.XPATH, '//*[@id=\"searchbox-searchbutton\"]')\n",
    "search_button.click()\n",
    "# time.sleep(5)"
   ]
  },
  {
   "cell_type": "code",
   "execution_count": 3,
   "id": "8d9bfd67",
   "metadata": {},
   "outputs": [],
   "source": [
    "rewiewer_list = [[] for _ in range(5)]\n",
    "rewiewer_rating = [[] for _ in range(5)]\n",
    "rewiewer_review = [[] for _ in range(5)]\n",
    "rewiewer_time = [[] for _ in range(5)]"
   ]
  },
  {
   "cell_type": "code",
   "execution_count": null,
   "id": "c32e8763",
   "metadata": {},
   "outputs": [],
   "source": []
  },
  {
   "cell_type": "code",
   "execution_count": null,
   "id": "8b5c2c73",
   "metadata": {},
   "outputs": [],
   "source": []
  },
  {
   "cell_type": "code",
   "execution_count": null,
   "id": "307c020d",
   "metadata": {},
   "outputs": [],
   "source": [
    "\n",
    "# Define a function to click all 'more' buttons\n",
    "def click_all_more_buttons():\n",
    "    more_buttons = driver.find_elements(By.XPATH,\"/html/body/div[3]/div[8]/div[9]/div/div/div[1]/div[2]/div/div[1]/div/div/div[2]/div[9]/div[4]/div/div/div[4]/div[2]/div/span[2]/button\")\n",
    "    for button in more_buttons:\n",
    "        try:\n",
    "            button.click()\n",
    "            WebDriverWait(driver, 40).until(EC.invisibility_of_element_located((By.XPATH, \"/html/body/div[3]/div[8]/div[9]/div/div/div[1]/div[2]/div/div[1]/div/div/div[2]\")))\n",
    "        except Exception as e:\n",
    "            print(f\"Couldn't click button: {e}\")\n",
    "\n",
    "# Call the function to click all 'more' buttons\n"
   ]
  },
  {
   "cell_type": "code",
   "execution_count": null,
   "id": "c7b8eef5",
   "metadata": {},
   "outputs": [],
   "source": [
    "click_all_more_buttons()"
   ]
  },
  {
   "cell_type": "code",
   "execution_count": null,
   "id": "35e105f9",
   "metadata": {},
   "outputs": [],
   "source": [
    "# def click_all_more_buttons():\n",
    "    # Use a more flexible XPath to locate all 'more' buttons within reviews\n",
    "    more_buttons = driver.find_elements(By.XPATH, \"/html/body/div[3]/div[8]/div[9]/div/div/div[1]/div[2]/div/div[1]/div/div/div[2]/div[9]/div[4]/div/div/div[4]/div[2]/div/span[2]/button\")\n",
    "    \n",
    "    for button in more_buttons:\n",
    "        try:\n",
    "            button.click()\n",
    "            # Wait for the review section to become invisible after clicking the 'more' button\n",
    "#             WebDriverWait(driver, 40).until(EC.invisibility_of_element_located((By.XPATH, \"//div[@class='review-section']\")))\n",
    "        except Exception as e:\n",
    "            print(f\"Couldn't click button: {e}\")\n",
    "\n",
    "# Call the function to click all 'more' buttons on the page\n"
   ]
  },
  {
   "cell_type": "code",
   "execution_count": null,
   "id": "93778349",
   "metadata": {},
   "outputs": [],
   "source": [
    "click_all_more_buttons()"
   ]
  },
  {
   "cell_type": "code",
   "execution_count": null,
   "id": "f3110bfe",
   "metadata": {},
   "outputs": [],
   "source": [
    "more_buttons"
   ]
  },
  {
   "cell_type": "code",
   "execution_count": null,
   "id": "f6dba272",
   "metadata": {},
   "outputs": [],
   "source": [
    "more_buttons = driver.find_elements(By.XPATH, \"/html/body/div[3]/div[8]/div[9]/div/div/div[1]/div[2]/div/div[1]/div/div/div[2]/div[9]/div[4]/div/div/div[4]/div[2]/div/span[2]/button\")"
   ]
  },
  {
   "cell_type": "code",
   "execution_count": null,
   "id": "a68e1197",
   "metadata": {},
   "outputs": [],
   "source": [
    "search_button"
   ]
  },
  {
   "cell_type": "code",
   "execution_count": null,
   "id": "5edee268",
   "metadata": {},
   "outputs": [],
   "source": [
    "more = driver.find_elements(By.XPATH,'//button[@class=\"w8nwRe kyuRq\"]')"
   ]
  },
  {
   "cell_type": "code",
   "execution_count": null,
   "id": "0569eda8",
   "metadata": {},
   "outputs": [],
   "source": [
    "more"
   ]
  },
  {
   "cell_type": "code",
   "execution_count": null,
   "id": "bc61af13",
   "metadata": {},
   "outputs": [],
   "source": [
    "\n",
    "for m in more:\n",
    "    m.click()\n",
    "   "
   ]
  },
  {
   "cell_type": "code",
   "execution_count": null,
   "id": "261b046c",
   "metadata": {},
   "outputs": [],
   "source": [
    "soup = BeautifulSoup(driver.page_source, 'lxml')\n",
    "    \n",
    "names = soup.find_all('div', attrs={'class': 'd4r55'})\n",
    "review_time = soup.find_all('span', attrs={'class': 'rsqaWe'})\n",
    "review = soup.find_all('span', attrs={'class': 'wiI7pd'})\n",
    "span_elements = soup.find_all('span', class_='kvMYJc')"
   ]
  },
  {
   "cell_type": "code",
   "execution_count": null,
   "id": "8b0e185c",
   "metadata": {},
   "outputs": [],
   "source": [
    "rewiewer_name = []\n",
    "for name in names:\n",
    "    try:\n",
    "        rewiewer_name.append(name.text)\n",
    "    except:\n",
    "        rewiewer_name.append('Not Found')\n",
    "        \n",
    "    if len(rewiewer_name) >= 5:\n",
    "        break\n",
    "            "
   ]
  },
  {
   "cell_type": "code",
   "execution_count": null,
   "id": "d226ff2e",
   "metadata": {},
   "outputs": [],
   "source": [
    "time_review = []       \n",
    "for time in review_time:\n",
    "    try:\n",
    "        time_review.append(time.text)\n",
    "    except:\n",
    "        time_review.append('Not Found')\n",
    "\n",
    "    # Break the loop after appending the first 5 ratings\n",
    "    if len(time_review) >= 5:\n",
    "        break"
   ]
  },
  {
   "cell_type": "code",
   "execution_count": null,
   "id": "e6784cc4",
   "metadata": {},
   "outputs": [],
   "source": [
    "rating = []\n",
    "for span_element in span_elements:\n",
    "    try:\n",
    "        aria_label_value = span_element['aria-label']\n",
    "        rating.append(aria_label_value)\n",
    "    except:\n",
    "        rating.append('Not Found')\n",
    "\n",
    "        # Break the loop after appending the first 5 ratings\n",
    "    if len(rating) >= 5:\n",
    "        break"
   ]
  },
  {
   "cell_type": "code",
   "execution_count": null,
   "id": "8cc54414",
   "metadata": {},
   "outputs": [],
   "source": [
    "reviews = []\n",
    "for item in review:\n",
    "    try:\n",
    "        reviews.append(item.text)\n",
    "    except:\n",
    "        reviews.append('Not Found')\n",
    "\n",
    "    # Break the loop after appending the first 5 ratings\n",
    "    if len(reviews) >= 5:\n",
    "        break"
   ]
  },
  {
   "cell_type": "code",
   "execution_count": null,
   "id": "3d1c7f68",
   "metadata": {},
   "outputs": [],
   "source": [
    "for i, name in enumerate(rewiewer_name):\n",
    "    rewiewer_list[i%5].append(name)\n",
    "\n",
    "for i, rate in enumerate(rating):\n",
    "    rewiewer_rating[i%5].append(rate)\n",
    "\n",
    "for i, review in enumerate(reviews):\n",
    "    rewiewer_review[i%5].append(review)\n",
    "\n",
    "for i, time in enumerate(time_review):\n",
    "    rewiewer_time[i%5].append(time)   \n"
   ]
  },
  {
   "cell_type": "code",
   "execution_count": null,
   "id": "8db75d09",
   "metadata": {},
   "outputs": [],
   "source": [
    "rewiewer_list[0]"
   ]
  },
  {
   "cell_type": "code",
   "execution_count": null,
   "id": "20e29acc",
   "metadata": {},
   "outputs": [],
   "source": [
    "rewiewer_review[1]"
   ]
  },
  {
   "cell_type": "code",
   "execution_count": null,
   "id": "db548789",
   "metadata": {},
   "outputs": [],
   "source": [
    "rewiewer_review[3]"
   ]
  },
  {
   "cell_type": "code",
   "execution_count": null,
   "id": "48a66564",
   "metadata": {},
   "outputs": [],
   "source": [
    "rewiewer_review[2]"
   ]
  },
  {
   "cell_type": "code",
   "execution_count": null,
   "id": "cdda545e",
   "metadata": {},
   "outputs": [],
   "source": [
    "rewiewer_review[4]"
   ]
  },
  {
   "cell_type": "code",
   "execution_count": null,
   "id": "d3d27a2c",
   "metadata": {},
   "outputs": [],
   "source": [
    "driver.quit()"
   ]
  },
  {
   "cell_type": "code",
   "execution_count": 4,
   "id": "1e4c0675",
   "metadata": {},
   "outputs": [],
   "source": [
    "df_col = pd.read_excel('dataset/data.xlsx')"
   ]
  },
  {
   "cell_type": "code",
   "execution_count": 5,
   "id": "efb9acb1",
   "metadata": {},
   "outputs": [],
   "source": [
    "list_col = df_col['Concatenate'].tolist()"
   ]
  },
  {
   "cell_type": "code",
   "execution_count": 6,
   "id": "a5110c86",
   "metadata": {},
   "outputs": [
    {
     "data": {
      "text/plain": [
       "['Connect Care Gypsum Colorado 81637',\n",
       " 'Colorado Kids Glenwood Springs Colorado 81601',\n",
       " 'Ivybrook Academy Castle Rock Colorado 80109',\n",
       " 'Primrose School of North Colorado Springs Colorado Springs Colorado 80920',\n",
       " 'City of Grand Junction Child Care Facility Grand Junction Colorado 81505',\n",
       " \"Lionheart Children's Academy at ACC Colorado Springs, Co Colorado 80908\",\n",
       " 'OUAC Hampshire LLC Fort Collins Colorado 80526',\n",
       " 'The Goddard School Commerce City Colorado 80022',\n",
       " \"Durango's Cowboy Church Durango Colorado 81303\",\n",
       " 'Preescolar El Busesito Glenwood Springs Colorado 81601',\n",
       " 'Strawberry Park Elementary Steamboat Springs Colorado 80487',\n",
       " 'Discovery Trails Preschool Colorado Springs Colorado 80907',\n",
       " 'Novastar Kids Co Centennial Colorado 80015',\n",
       " 'New Horizon Academy Aurora Colorado 80015',\n",
       " 'Westwood Academy Denver Colorado 80226',\n",
       " 'Sunshine Learning Center LLC Parker Colorado 80134',\n",
       " 'The Learning Experience- Green Valley Ranch Denver Colorado 80249',\n",
       " 'Colorado Institute for Early Learning Denver Colorado 80207',\n",
       " 'Kid City USA Highlands Ranch Highlands Ranch Colorado 80126',\n",
       " 'Emmanuel STEM International PRS Aurora Colorado 80011',\n",
       " 'Eagleside Elementary Fountain Colorado 80817',\n",
       " 'OFF BROADWAY PRESCHOOL OF FINE ARTS Boulder Colorado 80302',\n",
       " 'Smart Bear Learning Highlands Ranch Colorado 80126',\n",
       " 'Venture for Success Denver Colorado 80239',\n",
       " 'Guidepost Montessori at Aurora Aurora Colorado 80016',\n",
       " 'Little Lambs Edwards Colorado 81632',\n",
       " \"Little Sunshine's Playhouse and Preschool Broomfield Colorado 80023\",\n",
       " 'New Directions for Families Littleton Colorado 80120',\n",
       " 'FAIRVIEW ELEMENTARY Denver Colorado 80221',\n",
       " 'Primrose School of Littleton Littleton Colorado 80120',\n",
       " 'HODGKINS ELEMENTARY Denver Colorado 80221',\n",
       " 'SHERREL WOOD ELEMENTARY Denver Colorado 80221',\n",
       " 'Haven House of Montrose, Inc Olathe Colorado 81425',\n",
       " 'Right On Mobile Education Thornton Colorado 80229',\n",
       " 'Statewide Angel Learning Center Denver Colorado 80014',\n",
       " 'Kiddie Academy of Aurora Aurora Colorado 80015',\n",
       " \"Little People's Landing Fort Collins Colorado 80525\",\n",
       " 'The Journey Preschool Aurora Colorado 80015',\n",
       " 'Paonia Elementary BELA Preschool Paonia Colorado 81428',\n",
       " 'Creative Kids Corner LLC Wellington Colorado 80549',\n",
       " 'Creative Infinity Early Learning Academy Aurora Colorado 80014',\n",
       " 'WELCHESTER PRESCHOOL Golden Colorado 80401',\n",
       " 'SUNFLOWER HILL CHILD CARE Denver Colorado 80222',\n",
       " 'Trailside Academy Denver Colorado 80221',\n",
       " 'Lightway at Sloans Edgewater Colorado 80214',\n",
       " 'JACOB ACADEMY Lakewood Colorado 80228',\n",
       " \"Revere Lil' Raiders Ovid Colorado 80744\",\n",
       " 'The Learning Experience Lafayette Colorado 80026',\n",
       " 'Dupont Elementary Preschool Commerce City Colorado 80022',\n",
       " 'Alsup Elementary Commerce City Colorado 80022']"
      ]
     },
     "execution_count": 6,
     "metadata": {},
     "output_type": "execute_result"
    }
   ],
   "source": [
    "list_col"
   ]
  },
  {
   "cell_type": "code",
   "execution_count": 7,
   "id": "e528b9dd",
   "metadata": {},
   "outputs": [],
   "source": [
    "for i in range(6):    \n",
    "    location = driver.find_element(By.XPATH, '//*[@id=\"searchboxinput\"]')\n",
    "    location.click()\n",
    "    location.clear()\n",
    "    # time.sleep(5)\n",
    "    location.send_keys(list_col[i])\n",
    "    search_button = driver.find_element(By.XPATH, '//*[@id=\"searchbox-searchbutton\"]')\n",
    "    search_button.click()\n",
    "    driver.implicitly_wait(20)\n",
    "    \n",
    "    try:\n",
    "        review_button = driver.find_element(By.XPATH, '//button[@class=\"hh2c6 G7m0Af\"]')\n",
    "        review_button.click()\n",
    "    except:\n",
    "        pass\n",
    "    \n",
    "    \n",
    "    try:\n",
    "        sort_button = driver.find_element(By.XPATH, '//button[@aria-label=\"Sort reviews\"]')\n",
    "        sort_button.click()\n",
    "    except:\n",
    "        pass\n",
    "    \n",
    "    try:\n",
    "        newest_click = driver.find_element(By.XPATH, '//div[@data-index=\"1\"]')\n",
    "        newest_click.click()\n",
    "    except:\n",
    "        pass\n",
    "    \n",
    "    driver.implicitly_wait(10)\n",
    "    try:\n",
    "        more = driver.find_elements(By.XPATH,'//button[@class=\"w8nwRe kyuRq\"]')\n",
    "    except:\n",
    "        pass\n",
    "    \n",
    "    driver.implicitly_wait(10)\n",
    "    try:\n",
    "        for m in more:\n",
    "            m.click()\n",
    "    except:\n",
    "        pass\n",
    "    \n",
    "    \n",
    "    \n",
    "    driver.implicitly_wait(20)\n",
    "    soup = BeautifulSoup(driver.page_source, 'lxml')\n",
    "    driver.implicitly_wait(20)\n",
    "    names = soup.find_all('div', attrs={'class': 'd4r55'})\n",
    "    driver.implicitly_wait(10)\n",
    "    review_time = soup.find_all('span', attrs={'class': 'rsqaWe'})\n",
    "    driver.implicitly_wait(10)\n",
    "    review = soup.find_all('span', attrs={'class': 'wiI7pd'})\n",
    "    driver.implicitly_wait(10)\n",
    "    span_elements = soup.find_all('span', class_='kvMYJc')\n",
    "    driver.implicitly_wait(10)\n",
    "    \n",
    "    rewiewer_name = []\n",
    "    for name in names:\n",
    "        try:\n",
    "            rewiewer_name.append(name.text)\n",
    "        except:\n",
    "            rewiewer_name.append('Not Found')\n",
    "        \n",
    "        if len(rewiewer_name) >= 5:\n",
    "            break\n",
    "    driver.implicitly_wait(5)\n",
    "    \n",
    "    \n",
    "    time_review = []       \n",
    "    for time in review_time:\n",
    "        try:\n",
    "            time_review.append(time.text)\n",
    "        except:\n",
    "            time_review.append('Not Found')\n",
    "\n",
    "    # Break the loop after appending the first 5 ratings\n",
    "        if len(time_review) >= 5:\n",
    "            break\n",
    "    driver.implicitly_wait(5)\n",
    "    \n",
    "    rating = []\n",
    "    for span_element in span_elements:\n",
    "        try:\n",
    "            aria_label_value = span_element['aria-label']\n",
    "            rating.append(aria_label_value)\n",
    "        except:\n",
    "            rating.append('Not Found')\n",
    "\n",
    "        # Break the loop after appending the first 5 ratings\n",
    "        if len(rating) >= 5:\n",
    "            break\n",
    "    driver.implicitly_wait(5)       \n",
    "    \n",
    "    reviews = []\n",
    "    for item in review:\n",
    "        try:\n",
    "            reviews.append(item.text)\n",
    "        except:\n",
    "            reviews.append('Not Found')\n",
    "\n",
    "    # Break the loop after appending the first 5 ratings\n",
    "        if len(reviews) >= 5:\n",
    "            break   \n",
    "    driver.implicitly_wait(5)\n",
    "    \n",
    "    for i, name in enumerate(rewiewer_name):\n",
    "        rewiewer_list[i%5].append(name)\n",
    "    driver.implicitly_wait(5)\n",
    "    \n",
    "    for i, rate in enumerate(rating):\n",
    "        rewiewer_rating[i%5].append(rate)\n",
    "    driver.implicitly_wait(5)\n",
    "\n",
    "    for i, review in enumerate(reviews):\n",
    "        rewiewer_review[i%5].append(review)\n",
    "    driver.implicitly_wait(5)\n",
    "\n",
    "    for i, time in enumerate(time_review):\n",
    "        rewiewer_time[i%5].append(time)\n",
    "    driver.implicitly_wait(5)\n",
    "        \n",
    "        \n",
    "       "
   ]
  },
  {
   "cell_type": "code",
   "execution_count": 8,
   "id": "da9c84f0",
   "metadata": {},
   "outputs": [
    {
     "data": {
      "text/plain": [
       "['We have had such a good experience with my 3 year old going to the preschool program. The teachers are so caring, leadership is friendly and welcoming. She’s always happy when she comes home and she’s learning so much. We love primrose!',\n",
       " 'Lionheart has been a blessing in our family! The staff is all so kind, welcoming, communicative and understanding. My kids love going to daycare and always have crafts to bring home, stories to share and new things they’ve learned. We are so grateful that we found Lionheart!']"
      ]
     },
     "execution_count": 8,
     "metadata": {},
     "output_type": "execute_result"
    }
   ],
   "source": [
    "rewiewer_review[1]"
   ]
  },
  {
   "cell_type": "code",
   "execution_count": 13,
   "id": "27d537d2",
   "metadata": {},
   "outputs": [
    {
     "data": {
      "text/plain": [
       "['I absolutely love Primrose. My family and I love the staff. They are friendly and understanding. The environment is peaceful and calming. The curriculum is sent to you through the app, and you also get to know what your child is learning in the classroom. My 2 year old loves being greeted and greeting the staff every morning. We absolutely love it here. This is a great place to bring your children.',\n",
       " 'We’re always greeted with a smile at the front desk! Things have always been organized and professionally handled. The facility is so clean, and the staff members truly love kids. It shows in their work with their kids. My son has made tremendous strides verbally and socially since he’s started. We are so great full to be part of the Lionheart family!']"
      ]
     },
     "execution_count": 13,
     "metadata": {},
     "output_type": "execute_result"
    }
   ],
   "source": [
    "rewiewer_review[0]"
   ]
  },
  {
   "cell_type": "code",
   "execution_count": 10,
   "id": "51abae5c",
   "metadata": {},
   "outputs": [
    {
     "data": {
      "text/plain": [
       "[]"
      ]
     },
     "execution_count": 10,
     "metadata": {},
     "output_type": "execute_result"
    }
   ],
   "source": [
    "rewiewer_review[3]"
   ]
  },
  {
   "cell_type": "code",
   "execution_count": 11,
   "id": "2dc29eaa",
   "metadata": {},
   "outputs": [
    {
     "data": {
      "text/plain": [
       "['We are so happy that our 2 yr old and 4 yr old attend Primrose. New administration and staff. School is clean, staff is so caring, and has an excellent curriculum. Teachers are very caring and give us input on our kids daily. Classrooms are well structured and very spacious and have lots of natural light. I highly recommend this school for families with young kids. We will also be enrolling our older child for the summer camp here too. Excellent School.',\n",
       " 'We love Lionheart for preschool and summer camp needs. My three year old has gone here since the beginning of the year, and after attending the same in-home daycare for the three years prior, it was a difficult transition for her. The teachers and staff were kind and patient with her. They all also remember details about our lives and ask my children specifics about their days and activities they do. We are greeted by name and it feels like home. My kids even ask to go to Lionheart (their “school”) even on days I’m off and they could be home with me. They provide food and the meals are quality, home-cooked and tasty! The school feels safe and has cameras and locked doors. They also provide a great app to see the different fun things my children are doing and my three year old is provided with an amazing curriculum to include books to being home. We love Lionheart academy!']"
      ]
     },
     "execution_count": 11,
     "metadata": {},
     "output_type": "execute_result"
    }
   ],
   "source": [
    "rewiewer_review[2]"
   ]
  },
  {
   "cell_type": "code",
   "execution_count": 16,
   "id": "03a6cc5b",
   "metadata": {},
   "outputs": [],
   "source": [
    "driver.quit()"
   ]
  },
  {
   "cell_type": "code",
   "execution_count": null,
   "id": "d2a61ae8",
   "metadata": {},
   "outputs": [],
   "source": [
    "for i in range(5):\n",
    "    print(rewiewer_list[i])"
   ]
  },
  {
   "cell_type": "code",
   "execution_count": 12,
   "id": "26f6c4e9",
   "metadata": {},
   "outputs": [
    {
     "data": {
      "text/plain": [
       "['We’re always greeted with a smile at the front desk! Things have always been organized and professionally handled. The facility is so clean, and the staff members truly love kids. It shows in their work with their kids. My son has made tremendous strides verbally and socially since he’s started. We are so great full to be part of the Lionheart family!',\n",
       " 'Lionheart has been a blessing in our family! The staff is all so kind, welcoming, communicative and understanding. My kids love going to daycare and always have crafts to bring home, stories to share and new things they’ve learned. We are so grateful that we found Lionheart!',\n",
       " 'We love Lionheart for preschool and summer camp needs. My three year old has gone here since the beginning of the year, and after attending the same in-home daycare for the three years prior, it was a difficult transition for her. The teachers and staff were kind and patient with her. They all also remember details about our lives and ask my children specifics about their days and activities they do. We are greeted by name and it feels like home. My kids even ask to go to Lionheart (their “school”) even on days I’m off and they could be home with me. They provide food and the meals are quality, home-cooked and tasty! The school feels safe and has cameras and locked doors. They also provide a great app to see the different fun things my children are doing and my three year old is provided with an amazing curriculum to include books to being home. We love Lionheart academy!']"
      ]
     },
     "execution_count": 12,
     "metadata": {},
     "output_type": "execute_result"
    }
   ],
   "source": [
    "reviews"
   ]
  },
  {
   "cell_type": "code",
   "execution_count": 14,
   "id": "a8ff0491",
   "metadata": {},
   "outputs": [
    {
     "data": {
      "text/plain": [
       "[<div class=\"d4r55\">Tina Grone</div>,\n",
       " <div class=\"d4r55\">Erika Carlson</div>,\n",
       " <div class=\"d4r55\">Ashley Baldwin</div>]"
      ]
     },
     "execution_count": 14,
     "metadata": {},
     "output_type": "execute_result"
    }
   ],
   "source": [
    "names"
   ]
  },
  {
   "cell_type": "code",
   "execution_count": 15,
   "id": "dd7557d0",
   "metadata": {},
   "outputs": [
    {
     "data": {
      "text/plain": [
       "[<selenium.webdriver.remote.webelement.WebElement (session=\"67da6931b96092c385b21d7bbd6cf301\", element=\"FFE91F32100871843814855817274070_element_192\")>,\n",
       " <selenium.webdriver.remote.webelement.WebElement (session=\"67da6931b96092c385b21d7bbd6cf301\", element=\"FFE91F32100871843814855817274070_element_193\")>]"
      ]
     },
     "execution_count": 15,
     "metadata": {},
     "output_type": "execute_result"
    }
   ],
   "source": [
    "more"
   ]
  },
  {
   "cell_type": "code",
   "execution_count": null,
   "id": "6ece65ba",
   "metadata": {},
   "outputs": [],
   "source": []
  }
 ],
 "metadata": {
  "kernelspec": {
   "display_name": "Python 3 (ipykernel)",
   "language": "python",
   "name": "python3"
  },
  "language_info": {
   "codemirror_mode": {
    "name": "ipython",
    "version": 3
   },
   "file_extension": ".py",
   "mimetype": "text/x-python",
   "name": "python",
   "nbconvert_exporter": "python",
   "pygments_lexer": "ipython3",
   "version": "3.11.5"
  }
 },
 "nbformat": 4,
 "nbformat_minor": 5
}
