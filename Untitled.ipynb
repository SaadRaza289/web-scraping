{
 "cells": [
  {
   "cell_type": "code",
   "execution_count": 1,
   "id": "95ecbfb4",
   "metadata": {},
   "outputs": [],
   "source": [
    "import pandas as pd\n",
    "from selenium import webdriver\n",
    "import time\n",
    "from selenium.webdriver.common.by import By\n",
    "from selenium.webdriver.support.select import Select\n",
    "import numpy as np\n",
    "import time"
   ]
  },
  {
   "cell_type": "code",
   "execution_count": 2,
   "id": "c5c66541",
   "metadata": {},
   "outputs": [],
   "source": [
    "df_colorado = pd.read_excel('dataset/data.xlsx')"
   ]
  },
  {
   "cell_type": "code",
   "execution_count": 3,
   "id": "dd114eb2",
   "metadata": {},
   "outputs": [
    {
     "data": {
      "text/html": [
       "<div>\n",
       "<style scoped>\n",
       "    .dataframe tbody tr th:only-of-type {\n",
       "        vertical-align: middle;\n",
       "    }\n",
       "\n",
       "    .dataframe tbody tr th {\n",
       "        vertical-align: top;\n",
       "    }\n",
       "\n",
       "    .dataframe thead th {\n",
       "        text-align: right;\n",
       "    }\n",
       "</style>\n",
       "<table border=\"1\" class=\"dataframe\">\n",
       "  <thead>\n",
       "    <tr style=\"text-align: right;\">\n",
       "      <th></th>\n",
       "      <th>Center Name</th>\n",
       "      <th>Address</th>\n",
       "      <th>City</th>\n",
       "      <th>State</th>\n",
       "      <th>Zip Code</th>\n",
       "      <th>Lat</th>\n",
       "      <th>Long</th>\n",
       "      <th>Concatenate</th>\n",
       "    </tr>\n",
       "  </thead>\n",
       "  <tbody>\n",
       "    <tr>\n",
       "      <th>0</th>\n",
       "      <td>Connect Care</td>\n",
       "      <td>305 Mcgregor Dr</td>\n",
       "      <td>Gypsum</td>\n",
       "      <td>Colorado</td>\n",
       "      <td>81637</td>\n",
       "      <td>39.642885</td>\n",
       "      <td>-106.882891</td>\n",
       "      <td>Connect Care Gypsum Colorado 81637</td>\n",
       "    </tr>\n",
       "    <tr>\n",
       "      <th>1</th>\n",
       "      <td>Colorado Kids</td>\n",
       "      <td>546 Hyland Park Dr</td>\n",
       "      <td>Glenwood Springs</td>\n",
       "      <td>Colorado</td>\n",
       "      <td>81601</td>\n",
       "      <td>39.535281</td>\n",
       "      <td>-107.320353</td>\n",
       "      <td>Colorado Kids Glenwood Springs Colorado 81601</td>\n",
       "    </tr>\n",
       "    <tr>\n",
       "      <th>2</th>\n",
       "      <td>Ivybrook Academy</td>\n",
       "      <td>1354 Park Street</td>\n",
       "      <td>Castle Rock</td>\n",
       "      <td>Colorado</td>\n",
       "      <td>80109</td>\n",
       "      <td>39.383359</td>\n",
       "      <td>-104.866086</td>\n",
       "      <td>Ivybrook Academy Castle Rock Colorado 80109</td>\n",
       "    </tr>\n",
       "    <tr>\n",
       "      <th>3</th>\n",
       "      <td>Primrose School of North Colorado Springs</td>\n",
       "      <td>2380 Briar Ridge Point</td>\n",
       "      <td>Colorado Springs</td>\n",
       "      <td>Colorado</td>\n",
       "      <td>80920</td>\n",
       "      <td>38.968625</td>\n",
       "      <td>-104.782401</td>\n",
       "      <td>Primrose School of North Colorado Springs Colo...</td>\n",
       "    </tr>\n",
       "    <tr>\n",
       "      <th>4</th>\n",
       "      <td>City of Grand Junction Child Care Facility</td>\n",
       "      <td>545 25 1/2 Rd</td>\n",
       "      <td>Grand Junction</td>\n",
       "      <td>Colorado</td>\n",
       "      <td>81505</td>\n",
       "      <td>39.084106</td>\n",
       "      <td>-108.580850</td>\n",
       "      <td>City of Grand Junction Child Care Facility Gra...</td>\n",
       "    </tr>\n",
       "  </tbody>\n",
       "</table>\n",
       "</div>"
      ],
      "text/plain": [
       "                                  Center Name                 Address  \\\n",
       "0                                Connect Care         305 Mcgregor Dr   \n",
       "1                               Colorado Kids      546 Hyland Park Dr   \n",
       "2                            Ivybrook Academy        1354 Park Street   \n",
       "3   Primrose School of North Colorado Springs  2380 Briar Ridge Point   \n",
       "4  City of Grand Junction Child Care Facility           545 25 1/2 Rd   \n",
       "\n",
       "               City     State  Zip Code        Lat        Long  \\\n",
       "0            Gypsum  Colorado     81637  39.642885 -106.882891   \n",
       "1  Glenwood Springs  Colorado     81601  39.535281 -107.320353   \n",
       "2       Castle Rock  Colorado     80109  39.383359 -104.866086   \n",
       "3  Colorado Springs  Colorado     80920  38.968625 -104.782401   \n",
       "4    Grand Junction  Colorado     81505  39.084106 -108.580850   \n",
       "\n",
       "                                         Concatenate  \n",
       "0                 Connect Care Gypsum Colorado 81637  \n",
       "1      Colorado Kids Glenwood Springs Colorado 81601  \n",
       "2        Ivybrook Academy Castle Rock Colorado 80109  \n",
       "3  Primrose School of North Colorado Springs Colo...  \n",
       "4  City of Grand Junction Child Care Facility Gra...  "
      ]
     },
     "execution_count": 3,
     "metadata": {},
     "output_type": "execute_result"
    }
   ],
   "source": [
    "df_colorado.head()"
   ]
  },
  {
   "cell_type": "code",
   "execution_count": 4,
   "id": "8e3290e5",
   "metadata": {},
   "outputs": [
    {
     "data": {
      "text/plain": [
       "Center Name    0\n",
       "Address        0\n",
       "City           0\n",
       "State          0\n",
       "Zip Code       0\n",
       "Lat            0\n",
       "Long           0\n",
       "Concatenate    0\n",
       "dtype: int64"
      ]
     },
     "execution_count": 4,
     "metadata": {},
     "output_type": "execute_result"
    }
   ],
   "source": [
    "df_colorado.isna().sum()"
   ]
  },
  {
   "cell_type": "code",
   "execution_count": 5,
   "id": "20cc572a",
   "metadata": {},
   "outputs": [],
   "source": [
    "list_colorado = df_colorado['Concatenate'].tolist()"
   ]
  },
  {
   "cell_type": "code",
   "execution_count": 6,
   "id": "57b34620",
   "metadata": {},
   "outputs": [
    {
     "name": "stdout",
     "output_type": "stream",
     "text": [
      "['Connect Care Gypsum Colorado 81637', 'Colorado Kids Glenwood Springs Colorado 81601', 'Ivybrook Academy Castle Rock Colorado 80109', 'Primrose School of North Colorado Springs Colorado Springs Colorado 80920', 'City of Grand Junction Child Care Facility Grand Junction Colorado 81505', \"Lionheart Children's Academy at ACC Colorado Springs, Co Colorado 80908\", 'OUAC Hampshire LLC Fort Collins Colorado 80526', 'The Goddard School Commerce City Colorado 80022', \"Durango's Cowboy Church Durango Colorado 81303\", 'Preescolar El Busesito Glenwood Springs Colorado 81601', 'Strawberry Park Elementary Steamboat Springs Colorado 80487', 'Discovery Trails Preschool Colorado Springs Colorado 80907', 'Novastar Kids Co Centennial Colorado 80015', 'New Horizon Academy Aurora Colorado 80015', 'Westwood Academy Denver Colorado 80226', 'Sunshine Learning Center LLC Parker Colorado 80134', 'The Learning Experience- Green Valley Ranch Denver Colorado 80249', 'Colorado Institute for Early Learning Denver Colorado 80207', 'Kid City USA Highlands Ranch Highlands Ranch Colorado 80126', 'Emmanuel STEM International PRS Aurora Colorado 80011', 'Eagleside Elementary Fountain Colorado 80817', 'OFF BROADWAY PRESCHOOL OF FINE ARTS Boulder Colorado 80302', 'Smart Bear Learning Highlands Ranch Colorado 80126', 'Venture for Success Denver Colorado 80239', 'Guidepost Montessori at Aurora Aurora Colorado 80016', 'Little Lambs Edwards Colorado 81632', \"Little Sunshine's Playhouse and Preschool Broomfield Colorado 80023\", 'New Directions for Families Littleton Colorado 80120', 'FAIRVIEW ELEMENTARY Denver Colorado 80221', 'Primrose School of Littleton Littleton Colorado 80120', 'HODGKINS ELEMENTARY Denver Colorado 80221', 'SHERREL WOOD ELEMENTARY Denver Colorado 80221', 'Haven House of Montrose, Inc Olathe Colorado 81425', 'Right On Mobile Education Thornton Colorado 80229', 'Statewide Angel Learning Center Denver Colorado 80014', 'Kiddie Academy of Aurora Aurora Colorado 80015', \"Little People's Landing Fort Collins Colorado 80525\", 'The Journey Preschool Aurora Colorado 80015', 'Paonia Elementary BELA Preschool Paonia Colorado 81428', 'Creative Kids Corner LLC Wellington Colorado 80549', 'Creative Infinity Early Learning Academy Aurora Colorado 80014', 'WELCHESTER PRESCHOOL Golden Colorado 80401', 'SUNFLOWER HILL CHILD CARE Denver Colorado 80222', 'Trailside Academy Denver Colorado 80221', 'Lightway at Sloans Edgewater Colorado 80214', 'JACOB ACADEMY Lakewood Colorado 80228', \"Revere Lil' Raiders Ovid Colorado 80744\", 'The Learning Experience Lafayette Colorado 80026', 'Dupont Elementary Preschool Commerce City Colorado 80022', 'Alsup Elementary Commerce City Colorado 80022']\n"
     ]
    }
   ],
   "source": [
    "print(list_colorado)"
   ]
  },
  {
   "cell_type": "code",
   "execution_count": 7,
   "id": "b45ddd46",
   "metadata": {},
   "outputs": [],
   "source": [
    "center_name = []\n",
    "rating = []\n",
    "no_of_people_rated = []\n",
    "center_type = []\n",
    "address = []\n",
    "website = []\n",
    "contact = []\n",
    "plus_code = []\n",
    "operating_hours = []\n",
    "rewiewer_name = []\n",
    "review = []\n",
    "review_time = []\n",
    "rating = []"
   ]
  },
  {
   "cell_type": "code",
   "execution_count": 8,
   "id": "b0848943",
   "metadata": {},
   "outputs": [],
   "source": [
    "# Set up the options for the Chrome WebDriver\n",
    "chrome_options = webdriver.ChromeOptions()\n",
    "# You can add additional options if needed, such as specifying the Chrome binary location.\n",
    "\n",
    "# Create the Chrome WebDriver instance using the specified options\n",
    "driver = webdriver.Chrome(options=chrome_options)\n",
    "\n",
    "# Now you can use the driver to navigate to a website\n",
    "driver.get(\"https://www.google.com/maps/@31.117853,74.440827,15z?entry=ttu\")\n",
    "time.sleep(5)"
   ]
  },
  {
   "cell_type": "code",
   "execution_count": 9,
   "id": "fd63b33a",
   "metadata": {},
   "outputs": [
    {
     "ename": "KeyboardInterrupt",
     "evalue": "",
     "output_type": "error",
     "traceback": [
      "\u001b[1;31m---------------------------------------------------------------------------\u001b[0m",
      "\u001b[1;31mKeyboardInterrupt\u001b[0m                         Traceback (most recent call last)",
      "Cell \u001b[1;32mIn[9], line 10\u001b[0m\n\u001b[0;32m      8\u001b[0m search_button \u001b[38;5;241m=\u001b[39m driver\u001b[38;5;241m.\u001b[39mfind_element(By\u001b[38;5;241m.\u001b[39mXPATH, \u001b[38;5;124m'\u001b[39m\u001b[38;5;124m//*[@id=\u001b[39m\u001b[38;5;124m\"\u001b[39m\u001b[38;5;124msearchbox-searchbutton\u001b[39m\u001b[38;5;124m\"\u001b[39m\u001b[38;5;124m]\u001b[39m\u001b[38;5;124m'\u001b[39m)\n\u001b[0;32m      9\u001b[0m search_button\u001b[38;5;241m.\u001b[39mclick()\n\u001b[1;32m---> 10\u001b[0m time\u001b[38;5;241m.\u001b[39msleep(\u001b[38;5;241m20\u001b[39m)\n",
      "\u001b[1;31mKeyboardInterrupt\u001b[0m: "
     ]
    }
   ],
   "source": [
    "for items in list_colorado:\n",
    "    \n",
    "    location = driver.find_element(By.XPATH, '//*[@id=\"searchboxinput\"]')\n",
    "    location.click()\n",
    "    location.send_keys(items)\n",
    "    time.sleep(20)\n",
    "\n",
    "\n",
    "    search_button = driver.find_element(By.XPATH, '//*[@id=\"searchbox-searchbutton\"]')\n",
    "    search_button.click()\n",
    "    time.sleep(20)"
   ]
  },
  {
   "cell_type": "code",
   "execution_count": null,
   "id": "59959cbd",
   "metadata": {},
   "outputs": [],
   "source": [
    "driver.quit()"
   ]
  },
  {
   "cell_type": "code",
   "execution_count": null,
   "id": "2cc0c1ea",
   "metadata": {},
   "outputs": [],
   "source": []
  }
 ],
 "metadata": {
  "kernelspec": {
   "display_name": "Python 3 (ipykernel)",
   "language": "python",
   "name": "python3"
  },
  "language_info": {
   "codemirror_mode": {
    "name": "ipython",
    "version": 3
   },
   "file_extension": ".py",
   "mimetype": "text/x-python",
   "name": "python",
   "nbconvert_exporter": "python",
   "pygments_lexer": "ipython3",
   "version": "3.11.5"
  }
 },
 "nbformat": 4,
 "nbformat_minor": 5
}
