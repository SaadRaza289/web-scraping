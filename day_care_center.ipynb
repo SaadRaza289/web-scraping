{
 "cells": [
  {
   "cell_type": "code",
   "execution_count": 1,
   "id": "a863b73d",
   "metadata": {},
   "outputs": [],
   "source": [
    "from selenium import webdriver\n",
    "import time\n",
    "from selenium.webdriver.common.by import By\n",
    "from selenium.webdriver.support.select import Select\n",
    "import pandas as pd\n",
    "import numpy as np"
   ]
  },
  {
   "cell_type": "code",
   "execution_count": 2,
   "id": "9d14bcbc",
   "metadata": {},
   "outputs": [],
   "source": [
    "# Set up the options for the Chrome WebDriver\n",
    "chrome_options = webdriver.ChromeOptions()\n",
    "# You can add additional options if needed, such as specifying the Chrome binary location.\n",
    "\n",
    "# Create the Chrome WebDriver instance using the specified options\n",
    "driver = webdriver.Chrome(options=chrome_options)\n",
    "\n",
    "# Now you can use the driver to navigate to a website\n",
    "driver.get(\"https://www.google.com/maps/@31.117853,74.440827,15z?entry=ttu\")\n",
    "time.sleep(5)"
   ]
  },
  {
   "cell_type": "code",
   "execution_count": 3,
   "id": "f28657e6",
   "metadata": {},
   "outputs": [],
   "source": [
    "location = driver.find_element(By.XPATH, '//*[@id=\"searchboxinput\"]')\n",
    "location.click()\n",
    "location.send_keys('Active Learning Center, 2601 Hazel Ct, Denver, CO 80211, United States')\n",
    "\n",
    "\n",
    "search_button = driver.find_element(By.XPATH, '//*[@id=\"searchbox-searchbutton\"]')\n",
    "search_button.click()"
   ]
  },
  {
   "cell_type": "code",
   "execution_count": 4,
   "id": "cfa73594",
   "metadata": {},
   "outputs": [],
   "source": [
    "center_name = []\n"
   ]
  },
  {
   "cell_type": "code",
   "execution_count": 5,
   "id": "5cadf9a7",
   "metadata": {},
   "outputs": [],
   "source": [
    "try:\n",
    "    n = driver.find_element(By.XPATH,'/html/body/div[3]/div[8]/div[9]/div/div/div[1]/div[2]/div/div[1]/div/div/div[2]/div/div[1]/div[1]/h1')\n",
    "    center_name.append(n.text)\n",
    "except:\n",
    "    center_name.append(\"not found\")"
   ]
  },
  {
   "cell_type": "code",
   "execution_count": 6,
   "id": "e528ab61",
   "metadata": {},
   "outputs": [
    {
     "data": {
      "text/plain": [
       "['Active Learning Center']"
      ]
     },
     "execution_count": 6,
     "metadata": {},
     "output_type": "execute_result"
    }
   ],
   "source": [
    "center_name"
   ]
  },
  {
   "cell_type": "code",
   "execution_count": 7,
   "id": "0b8e8d15",
   "metadata": {},
   "outputs": [],
   "source": [
    "rating = []\n",
    "\n",
    "try:\n",
    "    n = driver.find_element(By.XPATH,'//*[@id=\"QA0Szd\"]/div/div/div[1]/div[2]/div/div[1]/div/div/div[2]/div/div[1]/div[2]/div/div[1]/div[2]/span[1]/span[1]')\n",
    "    rating.append(n.text)\n",
    "except:\n",
    "    rating.append(\"not found\")"
   ]
  },
  {
   "cell_type": "code",
   "execution_count": 8,
   "id": "99859847",
   "metadata": {},
   "outputs": [
    {
     "data": {
      "text/plain": [
       "['3.8']"
      ]
     },
     "execution_count": 8,
     "metadata": {},
     "output_type": "execute_result"
    }
   ],
   "source": [
    "rating"
   ]
  },
  {
   "cell_type": "code",
   "execution_count": 9,
   "id": "41f06784",
   "metadata": {},
   "outputs": [],
   "source": [
    "no_of_people_rated = []\n",
    "\n",
    "try:\n",
    "    n = driver.find_element(By.XPATH,'//*[@id=\"QA0Szd\"]/div/div/div[1]/div[2]/div/div[1]/div/div/div[2]/div/div[1]/div[2]/div/div[1]/div[2]/span[2]/span/span')\n",
    "    no_of_people_rated.append(n.text.replace('(', '').replace(')', ''))\n",
    "except:\n",
    "    no_of_people_rated.append(\"not found\")"
   ]
  },
  {
   "cell_type": "code",
   "execution_count": 10,
   "id": "76f9ed9a",
   "metadata": {},
   "outputs": [
    {
     "data": {
      "text/plain": [
       "['5']"
      ]
     },
     "execution_count": 10,
     "metadata": {},
     "output_type": "execute_result"
    }
   ],
   "source": [
    "no_of_people_rated"
   ]
  },
  {
   "cell_type": "code",
   "execution_count": null,
   "id": "6e59a0e2",
   "metadata": {},
   "outputs": [],
   "source": [
    "center_type = []\n",
    "\n",
    "try:\n",
    "    n = driver.find_element(By.XPATH,'//*[@id=\"QA0Szd\"]/div/div/div[1]/div[2]/div/div[1]/div/div/div[2]/div/div[1]/div[2]/div/div[2]/span/span/button')\n",
    "    center_type.append(n.text)\n",
    "except:\n",
    "    center_type.append(\"not found\")"
   ]
  },
  {
   "cell_type": "code",
   "execution_count": null,
   "id": "dce9fc41",
   "metadata": {},
   "outputs": [],
   "source": [
    "center_type"
   ]
  },
  {
   "cell_type": "code",
   "execution_count": null,
   "id": "bddd8c6d",
   "metadata": {},
   "outputs": [],
   "source": [
    "address = []\n",
    "\n",
    "try:\n",
    "    n = driver.find_element(By.XPATH,'//*[@id=\"QA0Szd\"]/div/div/div[1]/div[2]/div/div[1]/div/div/div[7]/div[3]/button/div/div[2]/div[1]')\n",
    "    address.append(n.text)\n",
    "except:\n",
    "    address.append(\"not found\")"
   ]
  },
  {
   "cell_type": "code",
   "execution_count": null,
   "id": "dd41e612",
   "metadata": {},
   "outputs": [],
   "source": [
    "address"
   ]
  },
  {
   "cell_type": "code",
   "execution_count": null,
   "id": "f8f56296",
   "metadata": {},
   "outputs": [],
   "source": [
    "website = []\n",
    "\n",
    "try:\n",
    "    n = driver.find_element(By.XPATH,'//*[@id=\"QA0Szd\"]/div/div/div[1]/div[2]/div/div[1]/div/div/div[7]/div[4]/a/div/div[2]/div[1]')\n",
    "    website.append(n.text)\n",
    "except:\n",
    "    website.append(\"not found\")"
   ]
  },
  {
   "cell_type": "code",
   "execution_count": null,
   "id": "a18b6b6e",
   "metadata": {},
   "outputs": [],
   "source": [
    "website"
   ]
  },
  {
   "cell_type": "code",
   "execution_count": null,
   "id": "918cb1fc",
   "metadata": {},
   "outputs": [],
   "source": [
    "contact = []\n",
    "\n",
    "try:\n",
    "    n = driver.find_element(By.XPATH,'//*[@id=\"QA0Szd\"]/div/div/div[1]/div[2]/div/div[1]/div/div/div[7]/div[5]/button/div/div[2]/div[1]')\n",
    "    contact.append(n.text)\n",
    "except:\n",
    "    contact.append(\"not found\")"
   ]
  },
  {
   "cell_type": "code",
   "execution_count": null,
   "id": "7eebe5bc",
   "metadata": {},
   "outputs": [],
   "source": [
    "contact"
   ]
  },
  {
   "cell_type": "code",
   "execution_count": null,
   "id": "6da00dbf",
   "metadata": {},
   "outputs": [],
   "source": [
    "plus_code = []\n",
    "\n",
    "try:\n",
    "    n = driver.find_element(By.XPATH,'//*[@id=\"QA0Szd\"]/div/div/div[1]/div[2]/div/div[1]/div/div/div[7]/div[6]/button/div/div[2]/div[1]')\n",
    "    plus_code.append(n.text)\n",
    "except:\n",
    "    plus_code.append(\"not found\")"
   ]
  },
  {
   "cell_type": "code",
   "execution_count": null,
   "id": "40c4f81a",
   "metadata": {},
   "outputs": [],
   "source": [
    "plus_code"
   ]
  },
  {
   "cell_type": "code",
   "execution_count": null,
   "id": "0841f2a5",
   "metadata": {},
   "outputs": [],
   "source": [
    "operating_hours = []\n",
    "\n",
    "try:\n",
    "    n = driver.find_element(By.XPATH,'//*[@id=\"QA0Szd\"]/div/div/div[1]/div[3]/div/div[1]/div/div/div[2]/div[7]/div[4]/div[2]/div/table/tbody/tr[1]/td[2]/ul/li')\n",
    "    operating_hours.append(n.text)\n",
    "except:\n",
    "    operating_hours.append(\"not found\")"
   ]
  },
  {
   "cell_type": "code",
   "execution_count": null,
   "id": "124fbfec",
   "metadata": {},
   "outputs": [],
   "source": [
    "operating_hours"
   ]
  },
  {
   "cell_type": "code",
   "execution_count": null,
   "id": "b0b798c6",
   "metadata": {},
   "outputs": [],
   "source": []
  },
  {
   "cell_type": "code",
   "execution_count": null,
   "id": "11776430",
   "metadata": {},
   "outputs": [],
   "source": [
    "rewiewer_name = []\n",
    "review = []\n",
    "review_time = []\n",
    "rating = []\n",
    "\n",
    "try:\n",
    "    n = driver.find_element(By.XPATH, '/html/body/div[3]/div[8]/div[9]/div/div/div[1]/div[2]/div/div[1]/div/div/div[2]/div[8]/div[1]/div/div/div[2]/div[2]/div[1]/button/div[1]')\n",
    "    rewiewer_name.append(n.text)\n",
    "except:\n",
    "    rewiewer_name.append(\"not found\")\n",
    "    \n",
    "    \n"
   ]
  },
  {
   "cell_type": "code",
   "execution_count": null,
   "id": "e159fceb",
   "metadata": {},
   "outputs": [],
   "source": [
    "try:\n",
    "    n = driver.find_element(By.XPATH,'//*[@id=\"ChZDSUhNMG9nS0VJQ0FnSUNXdHBpeUhBEAE\"]/span')\n",
    "    review.append(n.text)\n",
    "except:\n",
    "    review.append(\"not found\")\n",
    "   \n",
    "    "
   ]
  },
  {
   "cell_type": "code",
   "execution_count": null,
   "id": "9562a917",
   "metadata": {},
   "outputs": [],
   "source": [
    "try:\n",
    "    n = driver.find_element(By.XPATH,'//*[@id=\"QA0Szd\"]/div/div/div[1]/div[2]/div/div[1]/div/div/div[2]/div[8]/div[1]/div/div/div[4]/div[1]/span[2]')\n",
    "    review_time.append(n.text)\n",
    "except:\n",
    "    review_time.append(\"not found\")\n",
    "  \n"
   ]
  },
  {
   "cell_type": "code",
   "execution_count": null,
   "id": "caa4a4dd",
   "metadata": {},
   "outputs": [],
   "source": [
    "print(rewiewer_name)\n",
    "print(review)\n",
    "print(review_time)"
   ]
  },
  {
   "cell_type": "code",
   "execution_count": null,
   "id": "ce35132c",
   "metadata": {},
   "outputs": [],
   "source": [
    "pip install html5lib"
   ]
  },
  {
   "cell_type": "code",
   "execution_count": null,
   "id": "07b5a9b0",
   "metadata": {},
   "outputs": [],
   "source": [
    "import requests\n",
    "import bs4\n",
    "from bs4 import BeautifulSoup\n",
    "import lxml\n",
    "import html5lib"
   ]
  },
  {
   "cell_type": "code",
   "execution_count": null,
   "id": "8dfbd692",
   "metadata": {},
   "outputs": [],
   "source": [
    "soup = BeautifulSoup(driver.page_source, 'lxml')\n"
   ]
  },
  {
   "cell_type": "code",
   "execution_count": null,
   "id": "efe9dfd4",
   "metadata": {},
   "outputs": [],
   "source": [
    "names = soup.find('div', attrs={'class': 'd4r55'})"
   ]
  },
  {
   "cell_type": "code",
   "execution_count": null,
   "id": "f02dc27e",
   "metadata": {},
   "outputs": [],
   "source": [
    "names.text"
   ]
  },
  {
   "cell_type": "code",
   "execution_count": null,
   "id": "b65edab9",
   "metadata": {},
   "outputs": [],
   "source": [
    "review_time = soup.find('span', attrs={'class': 'rsqaWe'})"
   ]
  },
  {
   "cell_type": "code",
   "execution_count": null,
   "id": "2b73b94a",
   "metadata": {},
   "outputs": [],
   "source": [
    "review_time.text"
   ]
  },
  {
   "cell_type": "code",
   "execution_count": null,
   "id": "33424a70",
   "metadata": {},
   "outputs": [],
   "source": [
    "review = soup.find('span', attrs={'class': 'wiI7pd'})"
   ]
  },
  {
   "cell_type": "code",
   "execution_count": null,
   "id": "b4e4abff",
   "metadata": {},
   "outputs": [],
   "source": [
    "review.text"
   ]
  },
  {
   "cell_type": "code",
   "execution_count": null,
   "id": "189622fb",
   "metadata": {},
   "outputs": [],
   "source": [
    "span_element = driver.find_element(By.CLASS_NAME, 'kvMYJc')\n",
    "aria_label_value = span_element.get_attribute('aria-label')\n",
    "print(aria_label_value)\n"
   ]
  },
  {
   "cell_type": "code",
   "execution_count": null,
   "id": "f5f6e7b6",
   "metadata": {},
   "outputs": [],
   "source": [
    "sort_button = driver.find_element(By.XPATH, '//button[@aria-label=\"Sort reviews\"]')\n",
    "sort_button.click()\n",
    "\n",
    "newest_button = driver.find_element(By.XPATH,'//div[@data-index=\"1\"]')\n",
    "newest_button.click()"
   ]
  },
  {
   "cell_type": "code",
   "execution_count": null,
   "id": "3088a7f7",
   "metadata": {},
   "outputs": [],
   "source": [
    "\n",
    "\n",
    "    if comment_container:\n",
    "        # Replace 'comment_class' with the actual class of individual comments\n",
    "        comments = comment_container.find_all('div', class_='comment_class')\n",
    "\n",
    "        # Print the top 5 comments\n",
    "        for i, comment in enumerate(comments[:5], start=1):\n",
    "            print(f\"Comment {i}: {comment.text.strip()}\")\n",
    "\n",
    "    else:\n",
    "        print(\"Comment container not found.\")"
   ]
  },
  {
   "cell_type": "code",
   "execution_count": null,
   "id": "31da24df",
   "metadata": {},
   "outputs": [],
   "source": [
    "names = soup.find_elements('div', attrs={'class': 'd4r55'})\n",
    "review_time = soup.find_all('span', attrs={'class': 'rsqaWe'})\n",
    "review = soup.find_all('span', attrs={'class': 'wiI7pd'})\n",
    "# span_element = driver.find_elements(By.CLASS_NAME, 'kvMYJc')\n",
    "\n"
   ]
  },
  {
   "cell_type": "code",
   "execution_count": null,
   "id": "cca13e3d",
   "metadata": {},
   "outputs": [],
   "source": [
    "for i, names in enumerate(names[:5], start=1):\n",
    "    \n",
    "    \n",
    "    print(f\"Rewiews Name {i}: {names.text}\")\n",
    "    print(f\"Rewiews Time {i}: {review_time.text}\")\n",
    "    print(f\"Rewiews Name {i}: {review.text}\")\n"
   ]
  },
  {
   "cell_type": "code",
   "execution_count": null,
   "id": "439de579",
   "metadata": {},
   "outputs": [],
   "source": [
    "names = []\n",
    "review_times = []\n",
    "reviews = []"
   ]
  },
  {
   "cell_type": "code",
   "execution_count": null,
   "id": "a33a1074",
   "metadata": {},
   "outputs": [],
   "source": [
    "for i, (name, review_time, review) in enumerate(zip(names[:5], review_times[:5], reviews[:5]), start=1):\n",
    "    name.append(names.text)\n",
    "    reviews_times.append(review_time.text)\n",
    "    reviews.append(review.text)\n",
    "    \n"
   ]
  },
  {
   "cell_type": "code",
   "execution_count": null,
   "id": "5b374a36",
   "metadata": {},
   "outputs": [],
   "source": [
    "name"
   ]
  },
  {
   "cell_type": "code",
   "execution_count": null,
   "id": "19e9cfba",
   "metadata": {},
   "outputs": [],
   "source": [
    "for name in names:\n",
    "    names.append(name.text)"
   ]
  },
  {
   "cell_type": "code",
   "execution_count": null,
   "id": "86e7b9fa",
   "metadata": {},
   "outputs": [],
   "source": [
    "name"
   ]
  },
  {
   "cell_type": "code",
   "execution_count": null,
   "id": "d6f3bba9",
   "metadata": {},
   "outputs": [],
   "source": [
    "rewiewer_name = []\n",
    "review = []\n",
    "review_time = []\n",
    "rating = []\n",
    "\n",
    "\n",
    "    "
   ]
  },
  {
   "cell_type": "code",
   "execution_count": null,
   "id": "c3fa7dbd",
   "metadata": {},
   "outputs": [],
   "source": [
    "try:\n",
    "    n = driver.find_elements(By.XPATH, '//div[@class=\"d4r55 \"]')\n",
    "#     rewiewer_name.append(n.text)\n",
    "except:\n",
    "    rewiewer_name.append(\"not found\")\n",
    "    "
   ]
  },
  {
   "cell_type": "code",
   "execution_count": null,
   "id": "633e405c",
   "metadata": {},
   "outputs": [],
   "source": [
    "n"
   ]
  },
  {
   "cell_type": "code",
   "execution_count": null,
   "id": "c1e07291",
   "metadata": {},
   "outputs": [],
   "source": []
  }
 ],
 "metadata": {
  "kernelspec": {
   "display_name": "Python 3 (ipykernel)",
   "language": "python",
   "name": "python3"
  },
  "language_info": {
   "codemirror_mode": {
    "name": "ipython",
    "version": 3
   },
   "file_extension": ".py",
   "mimetype": "text/x-python",
   "name": "python",
   "nbconvert_exporter": "python",
   "pygments_lexer": "ipython3",
   "version": "3.11.5"
  }
 },
 "nbformat": 4,
 "nbformat_minor": 5
}
