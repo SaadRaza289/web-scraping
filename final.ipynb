{
 "cells": [
  {
   "cell_type": "code",
   "execution_count": null,
   "id": "95ecbfb4",
   "metadata": {},
   "outputs": [],
   "source": [
    "import pandas as pd\n",
    "from selenium import webdriver\n",
    "import time\n",
    "from selenium.webdriver.common.by import By\n",
    "from selenium.webdriver.support.select import Select\n",
    "import numpy as np\n",
    "import time\n",
    "import requests\n",
    "import bs4\n",
    "from bs4 import BeautifulSoup\n",
    "import lxml\n",
    "import html5lib\n",
    "from selenium.webdriver.common.keys import Keys\n",
    "from selenium.webdriver.chrome.service import Service as ChromeService\n",
    "from selenium.webdriver.support.ui import WebDriverWait\n",
    "from selenium.webdriver.support import expected_conditions as EC"
   ]
  },
  {
   "cell_type": "code",
   "execution_count": null,
   "id": "c5c66541",
   "metadata": {},
   "outputs": [],
   "source": [
    "df_colorado = pd.read_excel('dataset/data.xlsx')"
   ]
  },
  {
   "cell_type": "code",
   "execution_count": null,
   "id": "dd114eb2",
   "metadata": {},
   "outputs": [],
   "source": [
    "df_colorado.head()"
   ]
  },
  {
   "cell_type": "code",
   "execution_count": null,
   "id": "a7bca941",
   "metadata": {},
   "outputs": [],
   "source": [
    "df_colorado.isna().sum()"
   ]
  },
  {
   "cell_type": "code",
   "execution_count": null,
   "id": "daec2b54",
   "metadata": {},
   "outputs": [],
   "source": [
    "list_colorado = df_colorado['Concatenate'].tolist()"
   ]
  },
  {
   "cell_type": "code",
   "execution_count": null,
   "id": "aea21f0c",
   "metadata": {},
   "outputs": [],
   "source": [
    "print(list_colorado)"
   ]
  },
  {
   "cell_type": "code",
   "execution_count": null,
   "id": "46104181",
   "metadata": {},
   "outputs": [],
   "source": [
    "center_name = []\n",
    "overall_rating = []\n",
    "no_of_people_rated = []\n",
    "center_type = []\n",
    "address = []\n",
    "website = []\n",
    "contact = []\n",
    "plus_code = []\n",
    "operating_hours = []\n",
    "rewiewer_list = [[] for _ in range(5)]\n",
    "rewiewer_rating = [[] for _ in range(5)]\n",
    "rewiewer_review = [[] for _ in range(5)]\n",
    "rewiewer_time = [[] for _ in range(5)]\n"
   ]
  },
  {
   "cell_type": "code",
   "execution_count": null,
   "id": "39752a04",
   "metadata": {},
   "outputs": [],
   "source": [
    "# Set up the options for the Chrome WebDriver\n",
    "chrome_options = webdriver.ChromeOptions()\n",
    "# You can add additional options if needed, such as specifying the Chrome binary location.\n",
    "\n",
    "# Create the Chrome WebDriver instance using the specified options\n",
    "driver = webdriver.Chrome(options=chrome_options)\n",
    "\n",
    "# Now you can use the driver to navigate to a website\n",
    "driver.get(\"https://www.google.com/maps/@31.117853,74.440827,15z?entry=ttu\")\n",
    "time.sleep(5)"
   ]
  },
  {
   "cell_type": "code",
   "execution_count": null,
   "id": "a6820f9a",
   "metadata": {},
   "outputs": [],
   "source": [
    "\n",
    "for i in range(len(list_colorado)):\n",
    "    \n",
    "    location = driver.find_element(By.XPATH, '//*[@id=\"searchboxinput\"]')\n",
    "    location.click()\n",
    " # Clear input field\n",
    "    location.clear()\n",
    "    time.sleep(5)\n",
    "    location.send_keys(list_colorado[i])\n",
    "    time.sleep(5)\n",
    "\n",
    "\n",
    "    search_button = driver.find_element(By.XPATH, '//*[@id=\"searchbox-searchbutton\"]')\n",
    "    search_button.click()\n",
    "    time.sleep(3)\n",
    "    \n",
    "    try:\n",
    "        n = driver.find_element(By.XPATH,'/html/body/div[3]/div[8]/div[9]/div/div/div[1]/div[2]/div/div[1]/div/div/div[2]/div/div[1]/div[1]/h1')\n",
    "        time.sleep(3)\n",
    "        center_name.append(n.text)\n",
    "    except:\n",
    "        center_name.append(\"not found\")\n",
    "    time.sleep(3)    \n",
    "        \n",
    "        \n",
    "    try:\n",
    "        r = driver.find_element(By.XPATH,'//*[@id=\"QA0Szd\"]/div/div/div[1]/div[2]/div/div[1]/div/div/div[2]/div/div[1]/div[2]/div/div[1]/div[2]/span[1]/span[1]')\n",
    "        time.sleep(3)\n",
    "        overall_rating.append(r.text)\n",
    "    except:\n",
    "        overall_rating.append(\"not found\")\n",
    "    time.sleep(3)  \n",
    "        \n",
    "        \n",
    "    try:\n",
    "        no = driver.find_element(By.XPATH,'//*[@id=\"QA0Szd\"]/div/div/div[1]/div[2]/div/div[1]/div/div/div[2]/div/div[1]/div[2]/div/div[1]/div[2]/span[2]/span/span')\n",
    "        time.sleep(3)\n",
    "        no_of_people_rated.append(no.text.replace('(', '').replace(')', ''))\n",
    "    except:\n",
    "        no_of_people_rated.append(\"not found\")\n",
    "    time.sleep(3)\n",
    "    \n",
    "    try:\n",
    "        ct = driver.find_element(By.XPATH,'//*[@id=\"QA0Szd\"]/div/div/div[1]/div[2]/div/div[1]/div/div/div[2]/div/div[1]/div[2]/div/div[2]/span/span/button')\n",
    "        time.sleep(3)\n",
    "        center_type.append(ct.text)\n",
    "    except:\n",
    "        center_type.append(\"not found\")\n",
    "    time.sleep(3)\n",
    "    \n",
    "    \n",
    "    try:\n",
    "        a = driver.find_element(By.XPATH,'//*[@id=\"QA0Szd\"]/div/div/div[1]/div[2]/div/div[1]/div/div/div[7]/div[3]/button/div/div[2]/div[1]')\n",
    "        time.sleep(3)\n",
    "        address.append(a.text)\n",
    "    except:\n",
    "        address.append(\"not found\")\n",
    "    time.sleep(3)\n",
    "    \n",
    "    try:\n",
    "        w = driver.find_element(By.XPATH,'//*[@id=\"QA0Szd\"]/div/div/div[1]/div[2]/div/div[1]/div/div/div[7]/div[5]/a/div/div[2]/div[1]')\n",
    "        time.sleep(3)\n",
    "        website.append(w.text)\n",
    "    except:\n",
    "        website.append(\"not found\")\n",
    "    time.sleep(3)\n",
    "    \n",
    "    try:\n",
    "        con = driver.find_element(By.XPATH,'//*[@id=\"QA0Szd\"]/div/div/div[1]/div[2]/div/div[1]/div/div/div[7]/div[7]/button/div/div[2]/div[1]')\n",
    "        time.sleep(3)\n",
    "        contact.append(con.text)\n",
    "    except:\n",
    "        contact.append(\"not found\")\n",
    "    time.sleep(3)\n",
    "    \n",
    "    try:\n",
    "        pc = driver.find_element(By.XPATH,'//*[@id=\"QA0Szd\"]/div/div/div[1]/div[2]/div/div[1]/div/div/div[7]/div[8]/button/div/div[2]/div[1]')\n",
    "        time.sleep(3)\n",
    "        plus_code.append(pc.text)\n",
    "    except:\n",
    "        plus_code.append(\"not found\")\n",
    "    time.sleep(3)\n",
    "    \n",
    "    try:\n",
    "        table_element = driver.find_element(By.CLASS_NAME, 'mxowUb')\n",
    "        aria_label_value =table_element.get_attribute('aria-label')\n",
    "        time.sleep(3)\n",
    "        operating_hours.append(aria_label_value)\n",
    "    except:\n",
    "        operating_hours.append(\"not found\")\n",
    "    time.sleep(3)\n",
    "    \n",
    "    try:\n",
    "        review_button = driver.find_element(By.XPATH, '//*[@id=\"QA0Szd\"]/div/div/div[1]/div[2]/div/div[1]/div/div/div[3]/div/div/button[2]')\n",
    "        review_button.click()\n",
    "        time.sleep(2)\n",
    "    except:\n",
    "        pass\n",
    "    \n",
    "    try:\n",
    "        sort_botton = driver.find_element(By.XPATH, '//button[@aria-label=\"Sort reviews\"]')\n",
    "        sort_botton.click()\n",
    "        time.sleep(1)\n",
    "    except:\n",
    "        pass\n",
    "    \n",
    "    try:\n",
    "        newest_button = driver.find_element(By.XPATH,'//*[@id=\"action-menu\"]/div[2]')\n",
    "        newest_button.click()\n",
    "        time.sleep(2)\n",
    "    except:\n",
    "        pass\n",
    "    \n",
    "    \n",
    "    soup = BeautifulSoup(driver.page_source, 'lxml')\n",
    "    \n",
    "    names = soup.find_all('div', attrs={'class': 'd4r55'})\n",
    "    review_time = soup.find_all('span', attrs={'class': 'rsqaWe'})\n",
    "    review = soup.find_all('span', attrs={'class': 'wiI7pd'})\n",
    "    span_elements = soup.find_all('span', class_='kvMYJc')\n",
    "    \n",
    "    rewiewer_name = []\n",
    "    for name in names:\n",
    "        try:\n",
    "            rewiewer_name.append(name.text)\n",
    "        except:\n",
    "            rewiewer_name.append('Not Found')\n",
    "\n",
    "    # Break the loop after appending the first 5 ratings\n",
    "        if len(rewiewer_name) >= 5:\n",
    "            break\n",
    "            \n",
    "    time_review = []       \n",
    "    for time in review_time:\n",
    "        try:\n",
    "            time_review.append(time.text)\n",
    "        except:\n",
    "            time_review.append('Not Found')\n",
    "\n",
    "    # Break the loop after appending the first 5 ratings\n",
    "        if len(time_review) >= 5:\n",
    "            break\n",
    "    \n",
    "    rating = []\n",
    "    for span_element in span_elements:\n",
    "        try:\n",
    "            aria_label_value = span_element['aria-label']\n",
    "            rating.append(aria_label_value)\n",
    "        except:\n",
    "            rating.append('Not Found')\n",
    "\n",
    "        # Break the loop after appending the first 5 ratings\n",
    "        if len(rating) >= 5:\n",
    "            break\n",
    "        \n",
    "    reviews = []\n",
    "    for item in review:\n",
    "        try:\n",
    "            reviews.append(item.text)\n",
    "        except:\n",
    "            reviews.append('Not Found')\n",
    "\n",
    "    # Break the loop after appending the first 5 ratings\n",
    "        if len(reviews) >= 5:\n",
    "            break\n",
    "    \n",
    "\n",
    "    for i, name in enumerate(rewiewer_name):\n",
    "        rewiewer_list[i%5].append(name)\n",
    "\n",
    "    \n",
    "    for i, rate in enumerate(rating):\n",
    "        rewiewer_rating[i%5].append(rate)\n",
    "\n",
    "    for i, review in enumerate(reviews):\n",
    "        rewiewer_review[i%5].append(review)\n",
    "   \n",
    "    for i, time in enumerate(time_review):\n",
    "        rewiewer_time[i%5].append(time)\n",
    "\n",
    "        \n",
    "driver.quit()"
   ]
  },
  {
   "cell_type": "code",
   "execution_count": null,
   "id": "24c91656",
   "metadata": {},
   "outputs": [],
   "source": [
    "driver.quit()"
   ]
  },
  {
   "cell_type": "code",
   "execution_count": null,
   "id": "2010524e",
   "metadata": {},
   "outputs": [],
   "source": [
    "center_name"
   ]
  },
  {
   "cell_type": "code",
   "execution_count": null,
   "id": "954d5550",
   "metadata": {},
   "outputs": [],
   "source": [
    "overall_rating"
   ]
  },
  {
   "cell_type": "code",
   "execution_count": null,
   "id": "e60afc24",
   "metadata": {},
   "outputs": [],
   "source": [
    "no_of_people_rated"
   ]
  },
  {
   "cell_type": "code",
   "execution_count": null,
   "id": "b35059bd",
   "metadata": {},
   "outputs": [],
   "source": [
    "center_type"
   ]
  },
  {
   "cell_type": "code",
   "execution_count": null,
   "id": "1b23fa39",
   "metadata": {},
   "outputs": [],
   "source": [
    "address"
   ]
  },
  {
   "cell_type": "code",
   "execution_count": null,
   "id": "48500e3d",
   "metadata": {},
   "outputs": [],
   "source": [
    "website"
   ]
  },
  {
   "cell_type": "code",
   "execution_count": null,
   "id": "aa5c6eda",
   "metadata": {},
   "outputs": [],
   "source": [
    "contact"
   ]
  },
  {
   "cell_type": "code",
   "execution_count": null,
   "id": "eaa98a10",
   "metadata": {},
   "outputs": [],
   "source": [
    "plus_code"
   ]
  },
  {
   "cell_type": "code",
   "execution_count": null,
   "id": "30af3ac8",
   "metadata": {},
   "outputs": [],
   "source": [
    "operating_hours"
   ]
  },
  {
   "cell_type": "code",
   "execution_count": null,
   "id": "d8cdad4e",
   "metadata": {},
   "outputs": [],
   "source": [
    "rewiewer_list[0]"
   ]
  },
  {
   "cell_type": "code",
   "execution_count": null,
   "id": "a674fecf",
   "metadata": {},
   "outputs": [],
   "source": [
    "rewiewer_rating[0]"
   ]
  },
  {
   "cell_type": "code",
   "execution_count": null,
   "id": "f6ae40e8",
   "metadata": {},
   "outputs": [],
   "source": []
  },
  {
   "cell_type": "code",
   "execution_count": null,
   "id": "50278a09",
   "metadata": {},
   "outputs": [],
   "source": [
    "import re\n",
    "\n",
    "def clean_special_characters(input_list):\n",
    "    cleaned_list = []\n",
    "\n",
    "    for item in input_list:\n",
    "        cleaned_item = re.sub(r'[^\\w\\s]', '', re.sub('\\u202f', '', item))\n",
    "        cleaned_list.append(cleaned_item)\n",
    "\n",
    "    return cleaned_list"
   ]
  },
  {
   "cell_type": "code",
   "execution_count": null,
   "id": "22d693dc",
   "metadata": {},
   "outputs": [],
   "source": [
    "# Clean the list from special characters\n",
    "cleaned_list = clean_special_characters(operating_hours)\n",
    "\n",
    "# Print the cleaned list\n",
    "print(cleaned_list)"
   ]
  },
  {
   "cell_type": "code",
   "execution_count": null,
   "id": "3d4f9704",
   "metadata": {},
   "outputs": [],
   "source": []
  }
 ],
 "metadata": {
  "kernelspec": {
   "display_name": "Python 3 (ipykernel)",
   "language": "python",
   "name": "python3"
  },
  "language_info": {
   "codemirror_mode": {
    "name": "ipython",
    "version": 3
   },
   "file_extension": ".py",
   "mimetype": "text/x-python",
   "name": "python",
   "nbconvert_exporter": "python",
   "pygments_lexer": "ipython3",
   "version": "3.11.5"
  }
 },
 "nbformat": 4,
 "nbformat_minor": 5
}
