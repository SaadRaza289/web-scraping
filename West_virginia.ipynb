{
 "cells": [
  {
   "cell_type": "code",
   "execution_count": 1,
   "id": "30087ee7",
   "metadata": {},
   "outputs": [],
   "source": [
    "from selenium import webdriver\n",
    "from selenium.webdriver.common.by import By\n",
    "from selenium.webdriver.common.keys import Keys\n",
    "from selenium.webdriver.common.action_chains import ActionChains\n",
    "from selenium.webdriver.support.ui import Select\n",
    "from selenium.webdriver.support.ui import WebDriverWait\n",
    "from selenium.webdriver.support import expected_conditions as EC\n",
    "import time\n",
    "import pandas as pd"
   ]
  },
  {
   "cell_type": "code",
   "execution_count": 2,
   "id": "fcb5cc52",
   "metadata": {},
   "outputs": [],
   "source": [
    "driver = webdriver.Chrome()\n",
    "action = ActionChains(driver)\n",
    "driver.maximize_window()"
   ]
  },
  {
   "cell_type": "code",
   "execution_count": 3,
   "id": "dcabde61",
   "metadata": {},
   "outputs": [],
   "source": [
    "def waitelem(links):\n",
    "    timeout = 10\n",
    "    a=1\n",
    "    element_found = False\n",
    "    while not element_found:\n",
    "        try:\n",
    "            # Wait until the element with id \"myElement\" appears\n",
    "            element = WebDriverWait(driver, timeout).until(EC.presence_of_element_located((By.XPATH,links)))\n",
    "\n",
    "            # If the element appears, set the flag to True and exit the loop\n",
    "            element_found = True\n",
    "\n",
    "            # Perform further actions with the element\n",
    "            print(\"Element appeared!\")\n",
    "            # Additional code to interact with the element\n",
    "        except:\n",
    "            # Handle the exception when the element does not appear within the specified timeout\n",
    "            print(\"Element not found. Retrying...\")"
   ]
  },
  {
   "cell_type": "code",
   "execution_count": 4,
   "id": "1832f0a0",
   "metadata": {},
   "outputs": [],
   "source": [
    "def selection(xpaths, name):\n",
    "    dropdown_element = driver.find_element(By.XPATH,xpaths)\n",
    "\n",
    "    # Create a Select object with the dropdown element\n",
    "    dropdown = Select(dropdown_element)\n",
    "\n",
    "    dropdown.select_by_visible_text(name)"
   ]
  },
  {
   "cell_type": "code",
   "execution_count": 5,
   "id": "79ebbeb3",
   "metadata": {},
   "outputs": [],
   "source": [
    "def actionss(xpaths):\n",
    "    but = driver.find_element(By.XPATH,xpaths)\n",
    "    action.move_to_element(but).perform()\n",
    "    action.click(but).perform()"
   ]
  },
  {
   "cell_type": "code",
   "execution_count": 6,
   "id": "1524dd9e",
   "metadata": {},
   "outputs": [],
   "source": [
    "all_links = []"
   ]
  },
  {
   "cell_type": "code",
   "execution_count": 7,
   "id": "de07682f",
   "metadata": {},
   "outputs": [],
   "source": [
    "driver.get('https://dhhr.wv.gov/bfa/ece/pages/providersearch.aspx')"
   ]
  },
  {
   "cell_type": "code",
   "execution_count": 8,
   "id": "2e98fa4b",
   "metadata": {},
   "outputs": [
    {
     "name": "stdout",
     "output_type": "stream",
     "text": [
      "Element appeared!\n"
     ]
    }
   ],
   "source": [
    "waitelem('//*[@id=\"zz2_RootAspMenu\"]/li[1]/a/span/span')"
   ]
  },
  {
   "cell_type": "code",
   "execution_count": 9,
   "id": "0e7ca034",
   "metadata": {},
   "outputs": [],
   "source": [
    "frame1 = driver.find_element(By.CSS_SELECTOR,'iframe')"
   ]
  },
  {
   "cell_type": "code",
   "execution_count": 10,
   "id": "f8a6b38b",
   "metadata": {},
   "outputs": [],
   "source": [
    "driver.switch_to.frame(frame1)"
   ]
  },
  {
   "cell_type": "code",
   "execution_count": 11,
   "id": "53e84182",
   "metadata": {},
   "outputs": [],
   "source": [
    "selection('//*[@id=\"type\"]', \"Child Care Center\")"
   ]
  },
  {
   "cell_type": "code",
   "execution_count": 12,
   "id": "bb23d492",
   "metadata": {},
   "outputs": [
    {
     "data": {
      "text/plain": [
       "<selenium.webdriver.common.action_chains.ActionChains at 0x21baa666a90>"
      ]
     },
     "execution_count": 12,
     "metadata": {},
     "output_type": "execute_result"
    }
   ],
   "source": [
    "action.send_keys(Keys.ENTER)"
   ]
  },
  {
   "cell_type": "code",
   "execution_count": 13,
   "id": "adf8a2a9",
   "metadata": {},
   "outputs": [
    {
     "name": "stdout",
     "output_type": "stream",
     "text": [
      "Element appeared!\n"
     ]
    }
   ],
   "source": [
    "waitelem('/html/body/div/div[3]/table/tbody[1]/tr/td[1]/a')"
   ]
  },
  {
   "cell_type": "code",
   "execution_count": 14,
   "id": "f5f468a1",
   "metadata": {},
   "outputs": [],
   "source": [
    "links = driver.find_elements(By.XPATH,'//*[@id=\"center_data\"]/tr/td[1]/a')"
   ]
  },
  {
   "cell_type": "code",
   "execution_count": 15,
   "id": "fec8b7d4",
   "metadata": {},
   "outputs": [],
   "source": [
    "for l in links:\n",
    "    all_links.append(l.get_attribute('href'))"
   ]
  },
  {
   "cell_type": "code",
   "execution_count": 16,
   "id": "a0bf90e8",
   "metadata": {},
   "outputs": [
    {
     "name": "stdout",
     "output_type": "stream",
     "text": [
      "333\n"
     ]
    }
   ],
   "source": [
    "print(len(all_links))"
   ]
  },
  {
   "cell_type": "code",
   "execution_count": 17,
   "id": "c571b698",
   "metadata": {},
   "outputs": [],
   "source": [
    "License_Number = []\n",
    "Name = []\n",
    "Address = []\n",
    "City = []\n",
    "zipcode =[]\n",
    "Phone = []\n",
    "County = []\n",
    "DHHR_Licensing_Specialist = []\n",
    "License_type = []\n",
    "License_expire = []\n",
    "Contact = []\n",
    "Title = []\n",
    "Capacity = []"
   ]
  },
  {
   "cell_type": "code",
   "execution_count": 18,
   "id": "b1d023f3",
   "metadata": {},
   "outputs": [
    {
     "name": "stdout",
     "output_type": "stream",
     "text": [
      "Element appeared!\n",
      "Element appeared!\n",
      "Element appeared!\n",
      "Element appeared!\n",
      "Element appeared!\n",
      "Element appeared!\n",
      "Element appeared!\n",
      "Element appeared!\n",
      "Element appeared!\n",
      "Element appeared!\n",
      "Element appeared!\n",
      "Element appeared!\n",
      "Element appeared!\n",
      "Element appeared!\n",
      "Element appeared!\n",
      "Element appeared!\n",
      "Element appeared!\n",
      "Element appeared!\n",
      "Element appeared!\n",
      "Element appeared!\n",
      "Element appeared!\n",
      "Element appeared!\n",
      "Element appeared!\n",
      "Element appeared!\n",
      "Element appeared!\n",
      "Element appeared!\n",
      "Element appeared!\n",
      "Element appeared!\n",
      "Element appeared!\n",
      "Element appeared!\n",
      "Element appeared!\n",
      "Element appeared!\n",
      "Element appeared!\n",
      "Element appeared!\n",
      "Element appeared!\n",
      "Element appeared!\n",
      "Element appeared!\n",
      "Element appeared!\n",
      "Element appeared!\n",
      "Element appeared!\n",
      "Element appeared!\n",
      "Element appeared!\n",
      "Element appeared!\n",
      "Element appeared!\n",
      "Element appeared!\n",
      "Element appeared!\n",
      "Element appeared!\n",
      "Element appeared!\n",
      "Element appeared!\n",
      "Element appeared!\n",
      "Element appeared!\n",
      "Element appeared!\n",
      "Element appeared!\n",
      "Element appeared!\n",
      "Element appeared!\n",
      "Element appeared!\n",
      "Element appeared!\n",
      "Element appeared!\n",
      "Element appeared!\n",
      "Element appeared!\n",
      "Element appeared!\n",
      "Element appeared!\n",
      "Element appeared!\n",
      "Element appeared!\n",
      "Element appeared!\n",
      "Element appeared!\n",
      "Element appeared!\n",
      "Element appeared!\n",
      "Element appeared!\n",
      "Element appeared!\n",
      "Element appeared!\n",
      "Element appeared!\n",
      "Element appeared!\n",
      "Element appeared!\n",
      "Element appeared!\n",
      "Element appeared!\n",
      "Element appeared!\n",
      "Element appeared!\n",
      "Element appeared!\n",
      "Element appeared!\n",
      "Element appeared!\n",
      "Element appeared!\n",
      "Element appeared!\n",
      "Element appeared!\n",
      "Element appeared!\n",
      "Element appeared!\n",
      "Element appeared!\n",
      "Element appeared!\n",
      "Element appeared!\n",
      "Element appeared!\n",
      "Element appeared!\n",
      "Element appeared!\n",
      "Element appeared!\n",
      "Element appeared!\n",
      "Element appeared!\n",
      "Element appeared!\n",
      "Element appeared!\n",
      "Element appeared!\n",
      "Element appeared!\n",
      "Element appeared!\n",
      "Element appeared!\n",
      "Element appeared!\n",
      "Element appeared!\n",
      "Element appeared!\n",
      "Element appeared!\n",
      "Element appeared!\n",
      "Element appeared!\n",
      "Element appeared!\n",
      "Element appeared!\n",
      "Element appeared!\n",
      "Element appeared!\n",
      "Element appeared!\n",
      "Element appeared!\n",
      "Element appeared!\n",
      "Element appeared!\n",
      "Element appeared!\n",
      "Element appeared!\n",
      "Element appeared!\n",
      "Element appeared!\n",
      "Element appeared!\n",
      "Element appeared!\n",
      "Element appeared!\n",
      "Element appeared!\n",
      "Element appeared!\n",
      "Element appeared!\n",
      "Element appeared!\n",
      "Element appeared!\n",
      "Element appeared!\n",
      "Element appeared!\n",
      "Element appeared!\n",
      "Element appeared!\n",
      "Element appeared!\n",
      "Element appeared!\n",
      "Element appeared!\n",
      "Element appeared!\n",
      "Element appeared!\n",
      "Element appeared!\n",
      "Element appeared!\n",
      "Element appeared!\n",
      "Element appeared!\n",
      "Element appeared!\n",
      "Element appeared!\n",
      "Element appeared!\n",
      "Element appeared!\n",
      "Element appeared!\n",
      "Element appeared!\n",
      "Element appeared!\n",
      "Element appeared!\n",
      "Element appeared!\n",
      "Element appeared!\n",
      "Element appeared!\n",
      "Element appeared!\n",
      "Element appeared!\n",
      "Element appeared!\n",
      "Element appeared!\n",
      "Element appeared!\n",
      "Element appeared!\n",
      "Element appeared!\n",
      "Element appeared!\n",
      "Element appeared!\n",
      "Element appeared!\n",
      "Element appeared!\n",
      "Element appeared!\n",
      "Element appeared!\n",
      "Element appeared!\n",
      "Element appeared!\n",
      "Element appeared!\n",
      "Element appeared!\n",
      "Element appeared!\n",
      "Element appeared!\n",
      "Element appeared!\n",
      "Element appeared!\n",
      "Element appeared!\n",
      "Element appeared!\n",
      "Element appeared!\n",
      "Element appeared!\n",
      "Element appeared!\n",
      "Element appeared!\n",
      "Element appeared!\n",
      "Element appeared!\n",
      "Element appeared!\n",
      "Element appeared!\n",
      "Element appeared!\n",
      "Element appeared!\n",
      "Element appeared!\n",
      "Element appeared!\n",
      "Element appeared!\n",
      "Element appeared!\n",
      "Element appeared!\n",
      "Element appeared!\n",
      "Element appeared!\n",
      "Element appeared!\n",
      "Element appeared!\n",
      "Element appeared!\n",
      "Element appeared!\n",
      "Element appeared!\n",
      "Element appeared!\n",
      "Element appeared!\n",
      "Element appeared!\n",
      "Element appeared!\n",
      "Element appeared!\n",
      "Element appeared!\n",
      "Element appeared!\n",
      "Element appeared!\n",
      "Element appeared!\n",
      "Element appeared!\n",
      "Element appeared!\n",
      "Element appeared!\n",
      "Element appeared!\n",
      "Element appeared!\n",
      "Element appeared!\n",
      "Element appeared!\n",
      "Element appeared!\n",
      "Element appeared!\n",
      "Element appeared!\n",
      "Element appeared!\n",
      "Element appeared!\n",
      "Element appeared!\n",
      "Element appeared!\n",
      "Element appeared!\n",
      "Element appeared!\n",
      "Element appeared!\n",
      "Element appeared!\n",
      "Element appeared!\n",
      "Element appeared!\n",
      "Element appeared!\n",
      "Element appeared!\n",
      "Element appeared!\n",
      "Element appeared!\n",
      "Element appeared!\n",
      "Element appeared!\n",
      "Element appeared!\n",
      "Element appeared!\n",
      "Element appeared!\n",
      "Element appeared!\n",
      "Element appeared!\n",
      "Element appeared!\n",
      "Element appeared!\n",
      "Element appeared!\n",
      "Element appeared!\n",
      "Element appeared!\n",
      "Element appeared!\n",
      "Element appeared!\n",
      "Element appeared!\n",
      "Element appeared!\n",
      "Element appeared!\n",
      "Element appeared!\n",
      "Element appeared!\n",
      "Element appeared!\n",
      "Element appeared!\n",
      "Element appeared!\n",
      "Element appeared!\n",
      "Element appeared!\n",
      "Element appeared!\n",
      "Element appeared!\n",
      "Element appeared!\n",
      "Element appeared!\n",
      "Element appeared!\n",
      "Element appeared!\n",
      "Element appeared!\n",
      "Element appeared!\n",
      "Element appeared!\n",
      "Element appeared!\n",
      "Element appeared!\n",
      "Element appeared!\n",
      "Element appeared!\n",
      "Element appeared!\n",
      "Element appeared!\n",
      "Element appeared!\n",
      "Element appeared!\n",
      "Element appeared!\n",
      "Element appeared!\n",
      "Element appeared!\n",
      "Element appeared!\n",
      "Element appeared!\n",
      "Element appeared!\n",
      "Element appeared!\n",
      "Element appeared!\n",
      "Element appeared!\n",
      "Element appeared!\n",
      "Element appeared!\n",
      "Element appeared!\n",
      "Element appeared!\n",
      "Element appeared!\n",
      "Element appeared!\n",
      "Element appeared!\n",
      "Element appeared!\n",
      "Element appeared!\n",
      "Element appeared!\n",
      "Element appeared!\n",
      "Element appeared!\n",
      "Element appeared!\n",
      "Element appeared!\n",
      "Element appeared!\n",
      "Element appeared!\n",
      "Element appeared!\n",
      "Element appeared!\n",
      "Element appeared!\n",
      "Element appeared!\n",
      "Element appeared!\n",
      "Element appeared!\n",
      "Element appeared!\n",
      "Element appeared!\n",
      "Element appeared!\n",
      "Element appeared!\n",
      "Element appeared!\n",
      "Element appeared!\n",
      "Element appeared!\n",
      "Element appeared!\n",
      "Element appeared!\n",
      "Element appeared!\n",
      "Element appeared!\n",
      "Element appeared!\n",
      "Element appeared!\n",
      "Element appeared!\n",
      "Element appeared!\n",
      "Element appeared!\n",
      "Element appeared!\n",
      "Element appeared!\n",
      "Element appeared!\n",
      "Element appeared!\n",
      "Element appeared!\n",
      "Element appeared!\n",
      "Element appeared!\n",
      "Element appeared!\n",
      "Element appeared!\n",
      "Element appeared!\n",
      "Element appeared!\n",
      "Element appeared!\n",
      "Element appeared!\n",
      "Element appeared!\n",
      "Element appeared!\n",
      "Element appeared!\n"
     ]
    }
   ],
   "source": [
    "for l in all_links:\n",
    "\n",
    "    driver.get(l)\n",
    "    waitelem('//*[@id=\"centertablea\"]/tbody/tr[1]/td[1]/strong')\n",
    "    \n",
    "    data = l.split('=')\n",
    "    data = data[1]\n",
    "    License_Number.append(data)\n",
    "   \n",
    "    try:    \n",
    "        n = driver.find_element(By.XPATH,'//*[@id=\"centertablea\"]/tbody/tr[1]/td[2]')\n",
    "        Name.append(n.text)\n",
    "    except:\n",
    "        Name.append(\"not found\")\n",
    "        \n",
    "    try:\n",
    "        a1 = driver.find_element(By.XPATH,'//*[@id=\"centertablea\"]/tbody/tr[2]/td[2]')\n",
    "        a2 = driver.find_element(By.XPATH,'//*[@id=\"centertablea\"]/tbody/tr[3]/td[2]')\n",
    "        a1 = a1.text\n",
    "        a2 = a2.text\n",
    "        ads = a1 +' '+ a2\n",
    "        Address.append(ads)\n",
    "    except:\n",
    "        Address.append(\"not found\") \n",
    "    try:\n",
    "        ci = driver.find_element(By.XPATH,'//*[@id=\"centertablea\"]/tbody/tr[4]/td[2]')\n",
    "        City.append(ci.text)\n",
    "    except:\n",
    "        City.append(\"not found\")\n",
    "        \n",
    "    try:\n",
    "        z = driver.find_element(By.XPATH,'//*[@id=\"centertablea\"]/tbody/tr[5]/td[2]')\n",
    "        zipcode.append(z.text)\n",
    "    except:\n",
    "        zipcode.append(\"not found\")\n",
    "        \n",
    "    try:\n",
    "        co = driver.find_element(By.XPATH,'//*[@id=\"centertablea\"]/tbody/tr[6]/td[2]')\n",
    "        County.append(co.text)\n",
    "    except:\n",
    "        County.append(\"not found\")\n",
    "        \n",
    "    try:\n",
    "        p = driver.find_element(By.XPATH,'//*[@id=\"centertablea\"]/tbody/tr[7]/td[2]')\n",
    "        Phone.append(p.text)\n",
    "    except:\n",
    "        Phone.append(\"not found\")\n",
    "        \n",
    "    try:\n",
    "        d = driver.find_element(By.XPATH,'//*[@id=\"centertablea\"]/tbody/tr[8]/td[2]')\n",
    "        DHHR_Licensing_Specialist.append(d.text)\n",
    "    except:\n",
    "        DHHR_Licensing_Specialist.append(\"not found\")\n",
    "        \n",
    "    try:\n",
    "        lt = driver.find_element(By.XPATH,'//*[@id=\"centertablea\"]/tbody/tr[9]/td[2]')\n",
    "        License_type.append(lt.text)\n",
    "    except:\n",
    "        License_type.append(\"not found\")\n",
    "        \n",
    "    try:\n",
    "        le = driver.find_element(By.XPATH,'//*[@id=\"centertablea\"]/tbody/tr[10]/td[2]')\n",
    "        License_expire.append(le.text)\n",
    "    except:\n",
    "        License_expire.append(con.text)\n",
    "    \n",
    "    try:\n",
    "        con = driver.find_element(By.XPATH,'//*[@id=\"centertablea\"]/tbody/tr[11]/td[2]')\n",
    "        Contact.append(con.text)\n",
    "    except:\n",
    "        Contact.append(\"not found\")\n",
    "        \n",
    "        \n",
    "    try:\n",
    "        tit = driver.find_element(By.XPATH,'//*[@id=\"centertablea\"]/tbody/tr[12]/td[2]')\n",
    "        Title.append(tit.text)\n",
    "    except:\n",
    "        Title.append(\"not found\")\n",
    "    \n",
    "    \n",
    "    try:\n",
    "        c1 = driver.find_element(By.XPATH,'//*[@id=\"centertableb\"]/tbody/tr[1]/td[2]')\n",
    "        c1 = c1.text\n",
    "        try:\n",
    "            c2 = driver.find_element(By.XPATH,'//*[@id=\"centertableb\"]/tbody/tr[4]/td[2]')\n",
    "            c2 = c2.text\n",
    "            c2 = int(c2)\n",
    "        except:\n",
    "            c2 = 0\n",
    "        c1 = int(c1)\n",
    "        cap = c1 + c2\n",
    "        Capacity.append(cap)\n",
    "    except:\n",
    "        Capacity.append(\"not found\")"
   ]
  },
  {
   "cell_type": "code",
   "execution_count": 32,
   "id": "f9aad57d",
   "metadata": {},
   "outputs": [
    {
     "data": {
      "text/plain": [
       "333"
      ]
     },
     "execution_count": 32,
     "metadata": {},
     "output_type": "execute_result"
    }
   ],
   "source": [
    "len(License_Number)"
   ]
  },
  {
   "cell_type": "code",
   "execution_count": 33,
   "id": "6b1886f4",
   "metadata": {},
   "outputs": [
    {
     "data": {
      "text/plain": [
       "333"
      ]
     },
     "execution_count": 33,
     "metadata": {},
     "output_type": "execute_result"
    }
   ],
   "source": [
    "len(Name)"
   ]
  },
  {
   "cell_type": "code",
   "execution_count": 34,
   "id": "abd72090",
   "metadata": {},
   "outputs": [
    {
     "data": {
      "text/plain": [
       "333"
      ]
     },
     "execution_count": 34,
     "metadata": {},
     "output_type": "execute_result"
    }
   ],
   "source": [
    "len(Address)"
   ]
  },
  {
   "cell_type": "code",
   "execution_count": 35,
   "id": "b899cf0a",
   "metadata": {},
   "outputs": [
    {
     "data": {
      "text/plain": [
       "333"
      ]
     },
     "execution_count": 35,
     "metadata": {},
     "output_type": "execute_result"
    }
   ],
   "source": [
    "len(City)"
   ]
  },
  {
   "cell_type": "code",
   "execution_count": 36,
   "id": "5d9e430e",
   "metadata": {},
   "outputs": [
    {
     "data": {
      "text/plain": [
       "333"
      ]
     },
     "execution_count": 36,
     "metadata": {},
     "output_type": "execute_result"
    }
   ],
   "source": [
    "len(zipcode)"
   ]
  },
  {
   "cell_type": "code",
   "execution_count": 37,
   "id": "f9edd2f9",
   "metadata": {},
   "outputs": [
    {
     "data": {
      "text/plain": [
       "333"
      ]
     },
     "execution_count": 37,
     "metadata": {},
     "output_type": "execute_result"
    }
   ],
   "source": [
    "len(County)"
   ]
  },
  {
   "cell_type": "code",
   "execution_count": 38,
   "id": "7df801a6",
   "metadata": {},
   "outputs": [
    {
     "data": {
      "text/plain": [
       "333"
      ]
     },
     "execution_count": 38,
     "metadata": {},
     "output_type": "execute_result"
    }
   ],
   "source": [
    "len(Phone)"
   ]
  },
  {
   "cell_type": "code",
   "execution_count": 39,
   "id": "d666e614",
   "metadata": {},
   "outputs": [
    {
     "data": {
      "text/plain": [
       "333"
      ]
     },
     "execution_count": 39,
     "metadata": {},
     "output_type": "execute_result"
    }
   ],
   "source": [
    "len(DHHR_Licensing_Specialist)"
   ]
  },
  {
   "cell_type": "code",
   "execution_count": 40,
   "id": "ec648fe4",
   "metadata": {},
   "outputs": [
    {
     "data": {
      "text/plain": [
       "333"
      ]
     },
     "execution_count": 40,
     "metadata": {},
     "output_type": "execute_result"
    }
   ],
   "source": [
    "len(License_type)"
   ]
  },
  {
   "cell_type": "code",
   "execution_count": 41,
   "id": "2ae44c05",
   "metadata": {},
   "outputs": [
    {
     "data": {
      "text/plain": [
       "333"
      ]
     },
     "execution_count": 41,
     "metadata": {},
     "output_type": "execute_result"
    }
   ],
   "source": [
    "len(License_expire)"
   ]
  },
  {
   "cell_type": "code",
   "execution_count": 42,
   "id": "4a740c93",
   "metadata": {},
   "outputs": [
    {
     "data": {
      "text/plain": [
       "333"
      ]
     },
     "execution_count": 42,
     "metadata": {},
     "output_type": "execute_result"
    }
   ],
   "source": [
    "len(Contact)"
   ]
  },
  {
   "cell_type": "code",
   "execution_count": 43,
   "id": "89dd6a35",
   "metadata": {},
   "outputs": [
    {
     "data": {
      "text/plain": [
       "333"
      ]
     },
     "execution_count": 43,
     "metadata": {},
     "output_type": "execute_result"
    }
   ],
   "source": [
    "len(Title)"
   ]
  },
  {
   "cell_type": "code",
   "execution_count": 44,
   "id": "4e542f6c",
   "metadata": {},
   "outputs": [
    {
     "data": {
      "text/plain": [
       "333"
      ]
     },
     "execution_count": 44,
     "metadata": {},
     "output_type": "execute_result"
    }
   ],
   "source": [
    "len(Capacity)"
   ]
  },
  {
   "cell_type": "code",
   "execution_count": null,
   "id": "6ebafb7e",
   "metadata": {},
   "outputs": [],
   "source": []
  }
 ],
 "metadata": {
  "kernelspec": {
   "display_name": "Python 3 (ipykernel)",
   "language": "python",
   "name": "python3"
  },
  "language_info": {
   "codemirror_mode": {
    "name": "ipython",
    "version": 3
   },
   "file_extension": ".py",
   "mimetype": "text/x-python",
   "name": "python",
   "nbconvert_exporter": "python",
   "pygments_lexer": "ipython3",
   "version": "3.11.5"
  }
 },
 "nbformat": 4,
 "nbformat_minor": 5
}
